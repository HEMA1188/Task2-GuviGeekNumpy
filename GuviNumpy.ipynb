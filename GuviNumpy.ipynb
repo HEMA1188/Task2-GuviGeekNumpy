{
  "nbformat": 4,
  "nbformat_minor": 0,
  "metadata": {
    "colab": {
      "provenance": [],
      "collapsed_sections": [],
      "authorship_tag": "ABX9TyOCc6Fbvv7GK4QN3OP4WSHk",
      "include_colab_link": true
    },
    "kernelspec": {
      "name": "python3",
      "display_name": "Python 3"
    },
    "language_info": {
      "name": "python"
    }
  },
  "cells": [
    {
      "cell_type": "markdown",
      "metadata": {
        "id": "view-in-github",
        "colab_type": "text"
      },
      "source": [
        "<a href=\"https://colab.research.google.com/github/HEMA1188/Task2-GuviGeekNumpy/blob/main/GuviNumpy.ipynb\" target=\"_parent\"><img src=\"https://colab.research.google.com/assets/colab-badge.svg\" alt=\"Open In Colab\"/></a>"
      ]
    },
    {
      "cell_type": "code",
      "execution_count": null,
      "metadata": {
        "id": "4Tojc7FUGMqJ"
      },
      "outputs": [],
      "source": []
    },
    {
      "cell_type": "markdown",
      "source": [],
      "metadata": {
        "id": "T3OGo8A3GRLw"
      }
    },
    {
      "cell_type": "code",
      "source": [],
      "metadata": {
        "id": "3Vtky6YdHhmJ"
      },
      "execution_count": null,
      "outputs": []
    },
    {
      "cell_type": "code",
      "source": [],
      "metadata": {
        "id": "HyibE0mkHivb"
      },
      "execution_count": null,
      "outputs": []
    },
    {
      "cell_type": "markdown",
      "source": [
        "1. Import the numpy package under the name np (★☆☆)"
      ],
      "metadata": {
        "id": "EeRyp5iSHbz-"
      }
    },
    {
      "cell_type": "code",
      "source": [
        "import numpy as np\n"
      ],
      "metadata": {
        "id": "a6Nt7Q_6Hkrz"
      },
      "execution_count": null,
      "outputs": []
    },
    {
      "cell_type": "markdown",
      "source": [],
      "metadata": {
        "id": "-zofbvoC9IDz"
      }
    },
    {
      "cell_type": "markdown",
      "source": [
        "2. Print the numpy version and the configuration"
      ],
      "metadata": {
        "id": "NgvMngzp9Hhz"
      }
    },
    {
      "cell_type": "code",
      "source": [
        "print(np.__version__)"
      ],
      "metadata": {
        "colab": {
          "base_uri": "https://localhost:8080/"
        },
        "id": "eosANLV59K2r",
        "outputId": "812fd487-ba6e-432b-8d3e-49e1c65c77be"
      },
      "execution_count": null,
      "outputs": [
        {
          "output_type": "stream",
          "name": "stdout",
          "text": [
            "1.21.6\n"
          ]
        }
      ]
    },
    {
      "cell_type": "markdown",
      "source": [
        "3. Create a null vector of size 10 (★☆☆)"
      ],
      "metadata": {
        "id": "C9kYD24E93JP"
      }
    },
    {
      "cell_type": "code",
      "source": [
        "def null_array(n):\n",
        "  x=np.zeros(n)\n",
        "  return x\n",
        "print(null_array(10))"
      ],
      "metadata": {
        "colab": {
          "base_uri": "https://localhost:8080/"
        },
        "id": "Oy7cSXB-97j0",
        "outputId": "d950f20e-ca15-407e-8264-1b39096bdb75"
      },
      "execution_count": null,
      "outputs": [
        {
          "output_type": "stream",
          "name": "stdout",
          "text": [
            "[0. 0. 0. 0. 0. 0. 0. 0. 0. 0.]\n"
          ]
        }
      ]
    },
    {
      "cell_type": "markdown",
      "source": [
        "4. How to find the memory size of any array (★☆☆)"
      ],
      "metadata": {
        "id": "mbh6wD8w_F_H"
      }
    },
    {
      "cell_type": "code",
      "source": [
        "x = np.array([10,20,34])\n",
        " \n",
        "print(\"Size of the array: \",\n",
        "      x.size)\n",
        " \n",
        "print(\"Memory size of one array element in bytes: \",\n",
        "      x.itemsize)\n",
        " \n",
        "# memory size of numpy array in bytes\n",
        "print(\"Memory size of numpy array in bytes:\",\n",
        "      x.size * x.itemsize)"
      ],
      "metadata": {
        "colab": {
          "base_uri": "https://localhost:8080/"
        },
        "id": "pgcXgLji_Lap",
        "outputId": "8e7bdf8b-b468-4f69-ff92-ea808eab93d8"
      },
      "execution_count": null,
      "outputs": [
        {
          "output_type": "stream",
          "name": "stdout",
          "text": [
            "Size of the array:  3\n",
            "Memory size of one array element in bytes:  8\n",
            "Memory size of numpy array in bytes: 24\n"
          ]
        }
      ]
    },
    {
      "cell_type": "markdown",
      "source": [
        "\n",
        "5. How to get the documentation of the numpy add function from the command line?"
      ],
      "metadata": {
        "id": "zZmMDFLZRXe9"
      }
    },
    {
      "cell_type": "code",
      "source": [
        "import numpy as np\n",
        "print(np.info(np.add))"
      ],
      "metadata": {
        "colab": {
          "base_uri": "https://localhost:8080/"
        },
        "id": "Ord1QabMRcCG",
        "outputId": "f46e93d5-7d29-40c2-ae1a-9127062e7b8a"
      },
      "execution_count": null,
      "outputs": [
        {
          "output_type": "stream",
          "name": "stdout",
          "text": [
            "add(x1, x2, /, out=None, *, where=True, casting='same_kind', order='K', dtype=None, subok=True[, signature, extobj])\n",
            "\n",
            "Add arguments element-wise.\n",
            "\n",
            "Parameters\n",
            "----------\n",
            "x1, x2 : array_like\n",
            "    The arrays to be added.\n",
            "    If ``x1.shape != x2.shape``, they must be broadcastable to a common\n",
            "    shape (which becomes the shape of the output).\n",
            "out : ndarray, None, or tuple of ndarray and None, optional\n",
            "    A location into which the result is stored. If provided, it must have\n",
            "    a shape that the inputs broadcast to. If not provided or None,\n",
            "    a freshly-allocated array is returned. A tuple (possible only as a\n",
            "    keyword argument) must have length equal to the number of outputs.\n",
            "where : array_like, optional\n",
            "    This condition is broadcast over the input. At locations where the\n",
            "    condition is True, the `out` array will be set to the ufunc result.\n",
            "    Elsewhere, the `out` array will retain its original value.\n",
            "    Note that if an uninitialized `out` array is created via the default\n",
            "    ``out=None``, locations within it where the condition is False will\n",
            "    remain uninitialized.\n",
            "**kwargs\n",
            "    For other keyword-only arguments, see the\n",
            "    :ref:`ufunc docs <ufuncs.kwargs>`.\n",
            "\n",
            "Returns\n",
            "-------\n",
            "add : ndarray or scalar\n",
            "    The sum of `x1` and `x2`, element-wise.\n",
            "    This is a scalar if both `x1` and `x2` are scalars.\n",
            "\n",
            "Notes\n",
            "-----\n",
            "Equivalent to `x1` + `x2` in terms of array broadcasting.\n",
            "\n",
            "Examples\n",
            "--------\n",
            ">>> np.add(1.0, 4.0)\n",
            "5.0\n",
            ">>> x1 = np.arange(9.0).reshape((3, 3))\n",
            ">>> x2 = np.arange(3.0)\n",
            ">>> np.add(x1, x2)\n",
            "array([[  0.,   2.,   4.],\n",
            "       [  3.,   5.,   7.],\n",
            "       [  6.,   8.,  10.]])\n",
            "\n",
            "The ``+`` operator can be used as a shorthand for ``np.add`` on ndarrays.\n",
            "\n",
            ">>> x1 = np.arange(9.0).reshape((3, 3))\n",
            ">>> x2 = np.arange(3.0)\n",
            ">>> x1 + x2\n",
            "array([[ 0.,  2.,  4.],\n",
            "       [ 3.,  5.,  7.],\n",
            "       [ 6.,  8., 10.]])\n",
            "None\n"
          ]
        }
      ]
    },
    {
      "cell_type": "markdown",
      "source": [
        "\n",
        "6. create **null** vector of size 10 but fifth value which is 1\n"
      ],
      "metadata": {
        "id": "NxbpXBiGR8JY"
      }
    },
    {
      "cell_type": "markdown",
      "source": [
        "\n",
        "\n"
      ],
      "metadata": {
        "id": "RnDj_VizR66a"
      }
    },
    {
      "cell_type": "code",
      "source": [
        "x = np.zeros(10)\n",
        "x[4] = 1\n",
        "print(x)"
      ],
      "metadata": {
        "colab": {
          "base_uri": "https://localhost:8080/"
        },
        "id": "AJzhY_p8SS2s",
        "outputId": "314a51f2-2243-467e-b35f-fa342e1d1c31"
      },
      "execution_count": null,
      "outputs": [
        {
          "output_type": "stream",
          "name": "stdout",
          "text": [
            "[0. 0. 0. 0. 1. 0. 0. 0. 0. 0.]\n"
          ]
        }
      ]
    },
    {
      "cell_type": "markdown",
      "source": [
        "\n",
        "7. Create a vector with values ranging from 10 to 49 "
      ],
      "metadata": {
        "id": "X-rjG92RTBeN"
      }
    },
    {
      "cell_type": "code",
      "source": [
        "import numpy as np\n",
        "a = np.arange(15,55)\n",
        "print(a)"
      ],
      "metadata": {
        "colab": {
          "base_uri": "https://localhost:8080/"
        },
        "id": "P6UdYEyWTDES",
        "outputId": "9c0d1722-d02b-44d8-aa43-b42fcfafe73f"
      },
      "execution_count": null,
      "outputs": [
        {
          "output_type": "stream",
          "name": "stdout",
          "text": [
            "[15 16 17 18 19 20 21 22 23 24 25 26 27 28 29 30 31 32 33 34 35 36 37 38\n",
            " 39 40 41 42 43 44 45 46 47 48 49 50 51 52 53 54]\n"
          ]
        }
      ]
    },
    {
      "cell_type": "markdown",
      "source": [
        "Reverse the vector first element become last"
      ],
      "metadata": {
        "id": "_oqV0p--TpIv"
      }
    },
    {
      "cell_type": "code",
      "source": [
        "x=[1,3,5,7,2,8]\n",
        "print(x[::-1])"
      ],
      "metadata": {
        "colab": {
          "base_uri": "https://localhost:8080/"
        },
        "id": "tY7el1MVT2wA",
        "outputId": "d24cb0c4-7ca8-4d19-ab06-81c1213f978e"
      },
      "execution_count": null,
      "outputs": [
        {
          "output_type": "stream",
          "name": "stdout",
          "text": [
            "[8, 2, 7, 5, 3, 1]\n"
          ]
        }
      ]
    },
    {
      "cell_type": "markdown",
      "source": [
        "9. Create a 3x3 matrix with values ranging from 0 to 8"
      ],
      "metadata": {
        "id": "5YifzmayUeeV"
      }
    },
    {
      "cell_type": "code",
      "source": [
        "import numpy as np\n",
        "x=np.arange(0,9).reshape(3,3)\n",
        "print(x)"
      ],
      "metadata": {
        "colab": {
          "base_uri": "https://localhost:8080/"
        },
        "id": "rOzniSdSUkLC",
        "outputId": "e0167a07-a7fe-4773-a790-275c0a9f3045"
      },
      "execution_count": null,
      "outputs": [
        {
          "output_type": "stream",
          "name": "stdout",
          "text": [
            "[[0 1 2]\n",
            " [3 4 5]\n",
            " [6 7 8]]\n"
          ]
        }
      ]
    },
    {
      "cell_type": "code",
      "source": [],
      "metadata": {
        "id": "k688KX0dTzHW"
      },
      "execution_count": null,
      "outputs": []
    },
    {
      "cell_type": "markdown",
      "source": [
        "10. Find indices of non-zero elements from [1,2,0,0,4,0] "
      ],
      "metadata": {
        "id": "KScKJZ40V2A3"
      }
    },
    {
      "cell_type": "code",
      "source": [
        "A = [1,2,0,0,4,0]\n",
        "print(np.nonzero(A))\n",
        "\n"
      ],
      "metadata": {
        "colab": {
          "base_uri": "https://localhost:8080/"
        },
        "id": "eeyMQJBOV3dY",
        "outputId": "e9611c69-7498-4e04-be1c-4dba8d6a42ae"
      },
      "execution_count": null,
      "outputs": [
        {
          "output_type": "stream",
          "name": "stdout",
          "text": [
            "(array([0, 1, 4]),)\n"
          ]
        }
      ]
    },
    {
      "cell_type": "markdown",
      "source": [
        "\n",
        "11. Create a 3x3 identity matrix "
      ],
      "metadata": {
        "id": "-1AVW9awYI-t"
      }
    },
    {
      "cell_type": "code",
      "source": [
        "x=np.eye(3)\n",
        "print(x)"
      ],
      "metadata": {
        "colab": {
          "base_uri": "https://localhost:8080/"
        },
        "id": "WCbQdf9mYhma",
        "outputId": "48e46fa3-a200-4029-d58a-c38e6b04823e"
      },
      "execution_count": null,
      "outputs": [
        {
          "output_type": "stream",
          "name": "stdout",
          "text": [
            "[[1. 0. 0.]\n",
            " [0. 1. 0.]\n",
            " [0. 0. 1.]]\n"
          ]
        }
      ]
    },
    {
      "cell_type": "code",
      "source": [],
      "metadata": {
        "id": "XPfi9IiZY2z9"
      },
      "execution_count": null,
      "outputs": []
    },
    {
      "cell_type": "code",
      "source": [],
      "metadata": {
        "id": "HwIqLEIhY2xI"
      },
      "execution_count": null,
      "outputs": []
    },
    {
      "cell_type": "markdown",
      "source": [],
      "metadata": {
        "id": "Ag8lsIPMY171"
      }
    },
    {
      "cell_type": "markdown",
      "source": [
        "12. Create a 3x3x3 array with random values "
      ],
      "metadata": {
        "id": "FfBaVRtaY1Ww"
      }
    },
    {
      "cell_type": "code",
      "source": [
        "x=np.random.random((3,3,3))\n",
        "print(x)"
      ],
      "metadata": {
        "colab": {
          "base_uri": "https://localhost:8080/"
        },
        "id": "EvIRCsh5Y65n",
        "outputId": "8a3607f7-98a4-407f-aadc-31fa9fe260a7"
      },
      "execution_count": null,
      "outputs": [
        {
          "output_type": "stream",
          "name": "stdout",
          "text": [
            "[[[0.09948711 0.14499651 0.87422892]\n",
            "  [0.11363473 0.02464603 0.89728525]\n",
            "  [0.37445922 0.56515148 0.34413267]]\n",
            "\n",
            " [[0.12729746 0.1198444  0.60260184]\n",
            "  [0.39168939 0.35470654 0.59048991]\n",
            "  [0.2762484  0.13979391 0.02340702]]\n",
            "\n",
            " [[0.92884476 0.93478104 0.84677492]\n",
            "  [0.98871923 0.93077288 0.57066861]\n",
            "  [0.41029768 0.85629194 0.444458  ]]]\n"
          ]
        }
      ]
    },
    {
      "cell_type": "markdown",
      "source": [
        "\n",
        "13. Create a 10x10 array with random values and find the minimum and maximum values"
      ],
      "metadata": {
        "id": "c2fgr-DwZVWQ"
      }
    },
    {
      "cell_type": "code",
      "source": [
        "import numpy as np\n",
        "n=np.random.random((10,10))\n",
        "print(n)\n",
        "print(n.min())\n",
        "print(n.max())\n"
      ],
      "metadata": {
        "colab": {
          "base_uri": "https://localhost:8080/"
        },
        "id": "XuY77WHwiDIE",
        "outputId": "f346eb9b-64e0-43db-893c-3e9c266837cf"
      },
      "execution_count": null,
      "outputs": [
        {
          "output_type": "stream",
          "name": "stdout",
          "text": [
            "[[0.77839744 0.90555511 0.82648896 0.56269095 0.50880658 0.8986838\n",
            "  0.66807648 0.25038537 0.23544899 0.84850692]\n",
            " [0.68016286 0.8668934  0.42923297 0.69389752 0.6918459  0.65749498\n",
            "  0.62382519 0.54656954 0.47919589 0.12118336]\n",
            " [0.64657639 0.85675969 0.42903151 0.56554406 0.9530148  0.82082749\n",
            "  0.13778758 0.96009137 0.7069983  0.77038493]\n",
            " [0.29231861 0.27281411 0.18249347 0.66346576 0.18906098 0.96679095\n",
            "  0.52395519 0.80077373 0.46614747 0.81445614]\n",
            " [0.67668074 0.82211026 0.06501043 0.89647538 0.83401556 0.92473517\n",
            "  0.42851829 0.76541607 0.41810642 0.25310124]\n",
            " [0.70089649 0.71844042 0.93703869 0.56228067 0.25363257 0.63603368\n",
            "  0.27841111 0.99283753 0.56218757 0.77463475]\n",
            " [0.23136942 0.09193014 0.18920125 0.91635879 0.51775058 0.74357065\n",
            "  0.75097935 0.21389088 0.49541629 0.95058889]\n",
            " [0.22171353 0.84277347 0.78656451 0.15382492 0.06878879 0.94070844\n",
            "  0.41284161 0.67024012 0.66709285 0.41274329]\n",
            " [0.95627451 0.73862329 0.96714936 0.0749799  0.15377508 0.99333195\n",
            "  0.29683792 0.73246828 0.3993918  0.94312927]\n",
            " [0.3359984  0.43409383 0.32700198 0.33739666 0.82451437 0.39009165\n",
            "  0.94489787 0.13964329 0.55034938 0.40094903]]\n",
            "0.06501042997053552\n",
            "0.9933319467958187\n"
          ]
        }
      ]
    },
    {
      "cell_type": "markdown",
      "source": [
        "14. Create a random vector of size 30 and find the mean value"
      ],
      "metadata": {
        "id": "HwPmEGknjLiL"
      }
    },
    {
      "cell_type": "code",
      "source": [
        "x=np.random.random((30,30))\n",
        "print(x.mean())"
      ],
      "metadata": {
        "colab": {
          "base_uri": "https://localhost:8080/"
        },
        "id": "FZM0WMvJjMcs",
        "outputId": "d7d01665-1c0c-45ed-ef8b-89150751b74c"
      },
      "execution_count": null,
      "outputs": [
        {
          "output_type": "stream",
          "name": "stdout",
          "text": [
            "0.4933228040873684\n"
          ]
        }
      ]
    },
    {
      "cell_type": "markdown",
      "source": [
        "15. Create a 2d array with 1 on the border and 0 inside "
      ],
      "metadata": {
        "id": "_xFWlNzajz0Z"
      }
    },
    {
      "cell_type": "code",
      "source": [
        "import numpy as np\n",
        "border=np.ones((5,5), dtype=int)\n",
        "border[1:-1,1:-1]=0\n",
        "print(border)"
      ],
      "metadata": {
        "colab": {
          "base_uri": "https://localhost:8080/"
        },
        "id": "nG3dr3joj8be",
        "outputId": "54d5ed49-9460-47d7-e256-d77f42d30c89"
      },
      "execution_count": null,
      "outputs": [
        {
          "output_type": "stream",
          "name": "stdout",
          "text": [
            "[[1 1 1 1 1]\n",
            " [1 0 0 0 1]\n",
            " [1 0 0 0 1]\n",
            " [1 0 0 0 1]\n",
            " [1 1 1 1 1]]\n"
          ]
        }
      ]
    },
    {
      "cell_type": "markdown",
      "source": [
        "16. How to add a border (filled with 0's) around an existing array? "
      ],
      "metadata": {
        "id": "INd-UavcmajQ"
      }
    },
    {
      "cell_type": "code",
      "source": [
        "\n",
        "x=np.ones((3,3))\n",
        "print(x)\n",
        "y=np.pad(x,1)\n",
        "print(y)"
      ],
      "metadata": {
        "colab": {
          "base_uri": "https://localhost:8080/"
        },
        "id": "aTGQtI-smjK9",
        "outputId": "94b9515f-d0be-484f-d487-0de6de7e403d"
      },
      "execution_count": null,
      "outputs": [
        {
          "output_type": "stream",
          "name": "stdout",
          "text": [
            "[[1. 1. 1.]\n",
            " [1. 1. 1.]\n",
            " [1. 1. 1.]]\n",
            "[[0. 0. 0. 0. 0.]\n",
            " [0. 1. 1. 1. 0.]\n",
            " [0. 1. 1. 1. 0.]\n",
            " [0. 1. 1. 1. 0.]\n",
            " [0. 0. 0. 0. 0.]]\n"
          ]
        }
      ]
    },
    {
      "cell_type": "markdown",
      "source": [
        "17.What is the result of the following expression?\n"
      ],
      "metadata": {
        "id": "eMeQUukpgwP1"
      }
    },
    {
      "cell_type": "code",
      "source": [
        "0 * np.nan\n",
        "np.nan == np.nan\n",
        "np.inf > np.nan\n",
        "np.nan - np.nan\n",
        "0.3 == 3 * 0.1"
      ],
      "metadata": {
        "colab": {
          "base_uri": "https://localhost:8080/"
        },
        "id": "9Zw37hFh-Uud",
        "outputId": "75dcbece-4c8d-4d9c-a708-b803dba88a15"
      },
      "execution_count": null,
      "outputs": [
        {
          "output_type": "execute_result",
          "data": {
            "text/plain": [
              "False"
            ]
          },
          "metadata": {},
          "execution_count": 2
        }
      ]
    },
    {
      "cell_type": "markdown",
      "source": [
        "\n",
        "18. Create a 5x5 matrix with values 1,2,3,4 just below the diagonal "
      ],
      "metadata": {
        "id": "vkh5DfMphW59"
      }
    },
    {
      "cell_type": "code",
      "source": [
        "Z = np.diag(1+np.arange(4), k = -1)\n",
        "print (Z)"
      ],
      "metadata": {
        "colab": {
          "base_uri": "https://localhost:8080/"
        },
        "id": "z0CLnKhAh4hw",
        "outputId": "ed27924a-b862-4b58-e596-f160b967a3f4"
      },
      "execution_count": null,
      "outputs": [
        {
          "output_type": "stream",
          "name": "stdout",
          "text": [
            "[[0 0 0 0 0]\n",
            " [1 0 0 0 0]\n",
            " [0 2 0 0 0]\n",
            " [0 0 3 0 0]\n",
            " [0 0 0 4 0]]\n"
          ]
        }
      ]
    },
    {
      "cell_type": "markdown",
      "source": [
        "19. Create a 8x8 matrix and fill it with a checkerboard pattern"
      ],
      "metadata": {
        "id": "miC0ZX4HirRp"
      }
    },
    {
      "cell_type": "code",
      "source": [
        "x = np.ones((3,3))\n",
        "print(\"Checkerboard pattern:\")\n",
        "x = np.zeros((8,8),dtype=int)\n",
        "x[1::2,::2] = 1\n",
        "x[::2,1::2] = 1\n",
        "print(x)"
      ],
      "metadata": {
        "colab": {
          "base_uri": "https://localhost:8080/"
        },
        "id": "MK_e8eQ3gy-x",
        "outputId": "677626fa-8eb2-4374-d01b-ef1d67e9becd"
      },
      "execution_count": null,
      "outputs": [
        {
          "output_type": "stream",
          "name": "stdout",
          "text": [
            "Checkerboard pattern:\n",
            "[[0 1 0 1 0 1 0 1]\n",
            " [1 0 1 0 1 0 1 0]\n",
            " [0 1 0 1 0 1 0 1]\n",
            " [1 0 1 0 1 0 1 0]\n",
            " [0 1 0 1 0 1 0 1]\n",
            " [1 0 1 0 1 0 1 0]\n",
            " [0 1 0 1 0 1 0 1]\n",
            " [1 0 1 0 1 0 1 0]]\n"
          ]
        }
      ]
    },
    {
      "cell_type": "markdown",
      "source": [
        "20. Consider a (6,7,8) shape array, what is the index (x,y,z) of the 100th element?"
      ],
      "metadata": {
        "id": "3nBa8AIgjEho"
      }
    },
    {
      "cell_type": "code",
      "source": [
        "print (np.unravel_index(100, (6,7,8)))"
      ],
      "metadata": {
        "colab": {
          "base_uri": "https://localhost:8080/"
        },
        "id": "2E20axz2jMfM",
        "outputId": "ff000ecc-8c7d-462c-b293-d490d083cab7"
      },
      "execution_count": null,
      "outputs": [
        {
          "output_type": "stream",
          "name": "stdout",
          "text": [
            "(1, 5, 4)\n"
          ]
        }
      ]
    },
    {
      "cell_type": "markdown",
      "source": [
        "21. Create a checkerboard 8x8 matrix using the tile function"
      ],
      "metadata": {
        "id": "lhhQAj7ojt1p"
      }
    },
    {
      "cell_type": "code",
      "source": [
        "array= np.array([[0,1], [1,0]])\n",
        "x = np.tile(array,(4,4))\n",
        "print (x)"
      ],
      "metadata": {
        "colab": {
          "base_uri": "https://localhost:8080/"
        },
        "id": "2rXYgSbBjvSK",
        "outputId": "4ba01364-bd45-4a83-f03c-24631f257225"
      },
      "execution_count": null,
      "outputs": [
        {
          "output_type": "stream",
          "name": "stdout",
          "text": [
            "[[0 1 0 1 0 1 0 1]\n",
            " [1 0 1 0 1 0 1 0]\n",
            " [0 1 0 1 0 1 0 1]\n",
            " [1 0 1 0 1 0 1 0]\n",
            " [0 1 0 1 0 1 0 1]\n",
            " [1 0 1 0 1 0 1 0]\n",
            " [0 1 0 1 0 1 0 1]\n",
            " [1 0 1 0 1 0 1 0]]\n"
          ]
        }
      ]
    },
    {
      "cell_type": "markdown",
      "source": [
        "23. Create a custom dtype that describes a color as four unsigned bytes (RGBA)"
      ],
      "metadata": {
        "id": "78sK4ve5j8jg"
      }
    },
    {
      "cell_type": "code",
      "source": [
        "color = np.dtype([(\"r\", np.ubyte, 1),\n",
        "                  (\"g\", np.ubyte, 1),\n",
        "                  (\"b\", np.ubyte, 1),\n",
        "                  (\"a\", np.ubyte, 1)])"
      ],
      "metadata": {
        "colab": {
          "base_uri": "https://localhost:8080/"
        },
        "id": "rmv_eTJPkCu9",
        "outputId": "bcdff001-6cb0-4000-9e07-20ad23fa37cf"
      },
      "execution_count": null,
      "outputs": [
        {
          "output_type": "stream",
          "name": "stderr",
          "text": [
            "/usr/local/lib/python3.7/dist-packages/ipykernel_launcher.py:4: FutureWarning: Passing (type, 1) or '1type' as a synonym of type is deprecated; in a future version of numpy, it will be understood as (type, (1,)) / '(1,)type'.\n",
            "  after removing the cwd from sys.path.\n"
          ]
        }
      ]
    },
    {
      "cell_type": "markdown",
      "source": [
        "\n",
        "24. Multiply a 5x3 matrix by a 3x2 matrix (real matrix product)"
      ],
      "metadata": {
        "id": "tKNvkkEYkwPY"
      }
    },
    {
      "cell_type": "code",
      "source": [
        "import numpy as np\n",
        "x = np.random.random((5,3))\n",
        "print(\"First array:\")\n",
        "print(x)\n",
        "y = np.random.random((3,2))\n",
        "print(\"Second array:\")\n",
        "print(y)\n",
        "z = np.dot(x, y)\n",
        "print(\"Dot product of two arrays:\")\n",
        "print(z)"
      ],
      "metadata": {
        "colab": {
          "base_uri": "https://localhost:8080/"
        },
        "id": "MLV7NX6zlHxl",
        "outputId": "6c9eecb3-86de-419d-affd-491c144b2d97"
      },
      "execution_count": null,
      "outputs": [
        {
          "output_type": "stream",
          "name": "stdout",
          "text": [
            "First array:\n",
            "[[0.77279626 0.33281194 0.96520537]\n",
            " [0.26994687 0.71758744 0.70336807]\n",
            " [0.84829633 0.02107089 0.0732987 ]\n",
            " [0.92334841 0.51534486 0.56205603]\n",
            " [0.3576916  0.14010334 0.42602337]]\n",
            "Second array:\n",
            "[[0.63364672 0.34107255]\n",
            " [0.84892767 0.51128181]\n",
            " [0.73423662 0.8800726 ]]\n",
            "Dot product of two arrays:\n",
            "[[1.48090221 1.28319109]\n",
            " [1.29666937 1.07797584]\n",
            " [0.60922644 0.36461193]\n",
            " [1.43524933 1.07306537]\n",
            " [0.65838967 0.56856257]]\n"
          ]
        }
      ]
    },
    {
      "cell_type": "markdown",
      "source": [
        "25. Given a 1D array, negate all elements which are between 3 and 8, in place. "
      ],
      "metadata": {
        "id": "d8EUK2-ClNnk"
      }
    },
    {
      "cell_type": "code",
      "source": [
        "x = np.arange(11)\n",
        "y=x[(x >= 3) & (x <= 8)] = -1\n",
        "y"
      ],
      "metadata": {
        "colab": {
          "base_uri": "https://localhost:8080/"
        },
        "id": "e_B3wNpymHQg",
        "outputId": "e1814ea7-4749-4069-dbb1-d59ccb61614d"
      },
      "execution_count": null,
      "outputs": [
        {
          "output_type": "execute_result",
          "data": {
            "text/plain": [
              "-1"
            ]
          },
          "metadata": {},
          "execution_count": 13
        }
      ]
    },
    {
      "cell_type": "markdown",
      "source": [
        "26. What is the output of the following script?"
      ],
      "metadata": {
        "id": "_Nz1bxxemPmO"
      }
    },
    {
      "cell_type": "code",
      "source": [
        "print(sum(range(5),-1))\n",
        "from numpy import *\n",
        "print(sum(range(5),-1))"
      ],
      "metadata": {
        "id": "57X9duEImVQ7",
        "colab": {
          "base_uri": "https://localhost:8080/"
        },
        "outputId": "68ebea62-2a4b-4d22-9978-7c5293385da8"
      },
      "execution_count": null,
      "outputs": [
        {
          "output_type": "stream",
          "name": "stdout",
          "text": [
            "9\n",
            "10\n"
          ]
        }
      ]
    },
    {
      "cell_type": "markdown",
      "source": [
        "27. Consider integer vector Z, which of these expression as legel?\n",
        "\n",
        "\n",
        "\n"
      ],
      "metadata": {
        "id": "HjNMJ3sd1W1z"
      }
    },
    {
      "cell_type": "code",
      "source": [
        "Z = np.arange(3)\n",
        "Z ** Z       # = [0^0, 1^1, 2^2] = [1, 1, 4]\n",
        "2 << Z >> 2  # = [0, 1, 2]\n",
        "Z < - Z      # = [False, False, False]\n",
        "1j * Z       # = [0 + 0.j, 0 + 1.j, 0 + 2.j]\n",
        "Z / 1 / 1    # = [0, 1, 2]\n",
        "Z < Z > Z    # ValueError"
      ],
      "metadata": {
        "id": "4dyaMaAC1jra"
      },
      "execution_count": null,
      "outputs": []
    },
    {
      "cell_type": "markdown",
      "source": [
        "28.what are the result of following expression?"
      ],
      "metadata": {
        "id": "MfqRD0Gf3eLC"
      }
    },
    {
      "cell_type": "code",
      "source": [
        "np.array(0) / np.array(0)\n",
        "np.array(0) // np.array(0)\n",
        "np.array([np.nan]).astype(int).astype(float)"
      ],
      "metadata": {
        "colab": {
          "base_uri": "https://localhost:8080/"
        },
        "id": "8d3i-CQt3wOa",
        "outputId": "42693ae3-48bf-4d84-b943-b5d28350f3ad"
      },
      "execution_count": null,
      "outputs": [
        {
          "output_type": "stream",
          "name": "stderr",
          "text": [
            "/usr/local/lib/python3.7/dist-packages/ipykernel_launcher.py:1: RuntimeWarning: invalid value encountered in true_divide\n",
            "  \"\"\"Entry point for launching an IPython kernel.\n",
            "/usr/local/lib/python3.7/dist-packages/ipykernel_launcher.py:2: RuntimeWarning: divide by zero encountered in floor_divide\n",
            "  \n"
          ]
        },
        {
          "output_type": "execute_result",
          "data": {
            "text/plain": [
              "array([-9.22337204e+18])"
            ]
          },
          "metadata": {},
          "execution_count": 3
        }
      ]
    },
    {
      "cell_type": "markdown",
      "source": [
        "29. How to round away from zero a float array ? "
      ],
      "metadata": {
        "id": "MBIZqXmh386E"
      }
    },
    {
      "cell_type": "code",
      "source": [
        "x = np.random.uniform(-10, +10, 10)\n",
        "np.copysign(np.ceil(np.abs(x)), x)"
      ],
      "metadata": {
        "id": "qqBqrI074C3c",
        "colab": {
          "base_uri": "https://localhost:8080/"
        },
        "outputId": "7aa33f9e-917d-492e-f35d-2749d2b27f33"
      },
      "execution_count": null,
      "outputs": [
        {
          "output_type": "execute_result",
          "data": {
            "text/plain": [
              "array([-6., -4., -4., -3.,  5., 10.,  9., -3., -6., -2.])"
            ]
          },
          "metadata": {},
          "execution_count": 10
        }
      ]
    },
    {
      "cell_type": "markdown",
      "source": [
        "30. How to find common values between two arrays? "
      ],
      "metadata": {
        "id": "edl-7i8lBcKc"
      }
    },
    {
      "cell_type": "code",
      "source": [
        "\n",
        "import numpy as np\n",
        "    \n",
        "a1 = np.array([0, 1, 2, 3, 4])\n",
        "a2 = [1, 3, 4]\n",
        "  \n",
        "# Common values between two arrays\n",
        "print(np.intersect1d(a1, a2))"
      ],
      "metadata": {
        "colab": {
          "base_uri": "https://localhost:8080/"
        },
        "id": "rIdXCXfnBcu5",
        "outputId": "db5a29f9-2f84-4714-86e0-7400948968c9"
      },
      "execution_count": null,
      "outputs": [
        {
          "output_type": "stream",
          "name": "stdout",
          "text": [
            "[1 3 4]\n"
          ]
        }
      ]
    },
    {
      "cell_type": "markdown",
      "source": [
        "31. How to ignore all numpy warnings (not recommended)?"
      ],
      "metadata": {
        "id": "GhcdiG6hI5PX"
      }
    },
    {
      "cell_type": "code",
      "source": [
        "import numpy as np\n",
        "data = np.random.random(100000).reshape(10, 100, 100) * np.nan\n",
        "np.seterr(all=\"ignore\")\n",
        "np.nanmedian(data, axis=[1, 2])"
      ],
      "metadata": {
        "colab": {
          "base_uri": "https://localhost:8080/"
        },
        "id": "Q3eZMJzgI6NV",
        "outputId": "b1adfdc6-f86e-4914-ee08-a48df6174f8c"
      },
      "execution_count": null,
      "outputs": [
        {
          "output_type": "stream",
          "name": "stderr",
          "text": [
            "/usr/local/lib/python3.7/dist-packages/numpy/lib/nanfunctions.py:997: RuntimeWarning: All-NaN slice encountered\n",
            "  result = np.apply_along_axis(_nanmedian1d, axis, a, overwrite_input)\n"
          ]
        },
        {
          "output_type": "execute_result",
          "data": {
            "text/plain": [
              "array([nan, nan, nan, nan, nan, nan, nan, nan, nan, nan])"
            ]
          },
          "metadata": {},
          "execution_count": 4
        }
      ]
    },
    {
      "cell_type": "markdown",
      "source": [
        "32. Is the following expressions true? false"
      ],
      "metadata": {
        "id": "90fvHMbSJHyN"
      }
    },
    {
      "cell_type": "code",
      "source": [
        "np.sqrt(-1) == np.emath.sqrt(-1)"
      ],
      "metadata": {
        "colab": {
          "base_uri": "https://localhost:8080/"
        },
        "id": "R4DrqikXJIt2",
        "outputId": "3293889d-35e1-4077-a755-3065c7439387"
      },
      "execution_count": null,
      "outputs": [
        {
          "output_type": "execute_result",
          "data": {
            "text/plain": [
              "False"
            ]
          },
          "metadata": {},
          "execution_count": 5
        }
      ]
    },
    {
      "cell_type": "markdown",
      "source": [
        "\n",
        "33.How to get the dates of yesterday, today and Tomorrow?"
      ],
      "metadata": {
        "id": "dyuZ4-YMJT2w"
      }
    },
    {
      "cell_type": "code",
      "source": [
        "\n",
        "import numpy as np\n",
        "  \n",
        "# for today\n",
        "today = np.datetime64('today', 'D')\n",
        "print(\"Today: \", today)\n",
        "  \n",
        "# for yesterday\n",
        "yesterday = np.datetime64('today', 'D')- np.timedelta64(1, 'D')\n",
        "  \n",
        "print(\"Yesterday: \", yesterday)\n",
        "  \n",
        "# for tomorrow\n",
        "tomorrow = np.datetime64('today', 'D')+ np.timedelta64(1, 'D')\n",
        "  \n",
        "print(\"Tomorrow: \", tomorrow)"
      ],
      "metadata": {
        "colab": {
          "base_uri": "https://localhost:8080/"
        },
        "id": "XDVGDOVkJ-4y",
        "outputId": "7073c070-deae-4727-f995-405737d63d58"
      },
      "execution_count": null,
      "outputs": [
        {
          "output_type": "stream",
          "name": "stdout",
          "text": [
            "Today:  2022-10-27\n",
            "Yesterday:  2022-10-26\n",
            "Tomorrow:  2022-10-28\n"
          ]
        }
      ]
    },
    {
      "cell_type": "markdown",
      "source": [
        "\n",
        "34. How to get all the dates corresponding to the month of July 2016?"
      ],
      "metadata": {
        "id": "lxPZ7jUaKjvm"
      }
    },
    {
      "cell_type": "code",
      "source": [
        "import numpy as np\n",
        "print(\"July, 2016\")\n",
        "print(np.arange('2016-07', '2016-08', dtype='datetime64[D]'))\n"
      ],
      "metadata": {
        "colab": {
          "base_uri": "https://localhost:8080/"
        },
        "id": "jep1eAowKuA5",
        "outputId": "0cc01990-db7d-446c-bac7-933891b7ccf6"
      },
      "execution_count": null,
      "outputs": [
        {
          "output_type": "stream",
          "name": "stdout",
          "text": [
            "July, 2016\n",
            "['2016-07-01' '2016-07-02' '2016-07-03' '2016-07-04' '2016-07-05'\n",
            " '2016-07-06' '2016-07-07' '2016-07-08' '2016-07-09' '2016-07-10'\n",
            " '2016-07-11' '2016-07-12' '2016-07-13' '2016-07-14' '2016-07-15'\n",
            " '2016-07-16' '2016-07-17' '2016-07-18' '2016-07-19' '2016-07-20'\n",
            " '2016-07-21' '2016-07-22' '2016-07-23' '2016-07-24' '2016-07-25'\n",
            " '2016-07-26' '2016-07-27' '2016-07-28' '2016-07-29' '2016-07-30'\n",
            " '2016-07-31']\n"
          ]
        }
      ]
    },
    {
      "cell_type": "markdown",
      "source": [
        "\n",
        "35. How to compute ((A+B)*(-A/2)) in place (without copy)?\n"
      ],
      "metadata": {
        "id": "iypTgmNkLjTY"
      }
    },
    {
      "cell_type": "code",
      "source": [
        "A = np.ones(3) * 1\n",
        "B = np.ones(3) * 2\n",
        "C = np.ones(3) * 3\n",
        "np.add(A, B, out=B)\n",
        "np.divide(A, 2, out=A)\n",
        "np.negative(A, out=A)\n",
        "np.multiply(A, B, out=A)"
      ],
      "metadata": {
        "colab": {
          "base_uri": "https://localhost:8080/"
        },
        "id": "SGBw3lbtOZhe",
        "outputId": "9d36005b-94b5-4f16-ae50-e3171925c729"
      },
      "execution_count": null,
      "outputs": [
        {
          "output_type": "execute_result",
          "data": {
            "text/plain": [
              "array([-1.5, -1.5, -1.5])"
            ]
          },
          "metadata": {},
          "execution_count": 11
        }
      ]
    },
    {
      "cell_type": "markdown",
      "source": [
        "36. Extract the integer part of a random array using 5 different methods"
      ],
      "metadata": {
        "id": "79ucJspOOr17"
      }
    },
    {
      "cell_type": "code",
      "source": [
        "x = np.random.uniform(-10, +10, 10)\n",
        "x.astype(np.int32)\n",
        "np.trunc(x)"
      ],
      "metadata": {
        "colab": {
          "base_uri": "https://localhost:8080/"
        },
        "id": "v-TCd8KzOwaX",
        "outputId": "dbf5d795-c598-438d-e0d1-56b098bbaf9c"
      },
      "execution_count": null,
      "outputs": [
        {
          "output_type": "execute_result",
          "data": {
            "text/plain": [
              "array([ 7.,  4., -8., -8.,  1.,  5.,  0., -7., -3.,  7.])"
            ]
          },
          "metadata": {},
          "execution_count": 12
        }
      ]
    },
    {
      "cell_type": "markdown",
      "source": [
        " 37. Create a 5x5 matrix with row values ranging from 0 to 4 (★★☆)"
      ],
      "metadata": {
        "id": "J2TKicL1O5mD"
      }
    },
    {
      "cell_type": "code",
      "source": [
        "x = np.zeros((5, 5))\n",
        "x += np.arange(5)\n",
        "x"
      ],
      "metadata": {
        "colab": {
          "base_uri": "https://localhost:8080/"
        },
        "id": "oXLCV3oZO-1T",
        "outputId": "07b6dec2-4faf-4ab0-f23c-3d962c8251d0"
      },
      "execution_count": null,
      "outputs": [
        {
          "output_type": "execute_result",
          "data": {
            "text/plain": [
              "array([[0., 1., 2., 3., 4.],\n",
              "       [0., 1., 2., 3., 4.],\n",
              "       [0., 1., 2., 3., 4.],\n",
              "       [0., 1., 2., 3., 4.],\n",
              "       [0., 1., 2., 3., 4.]])"
            ]
          },
          "metadata": {},
          "execution_count": 14
        }
      ]
    },
    {
      "cell_type": "markdown",
      "source": [
        "\n",
        " 38. Consider a generator function that generates 10 integers and use it to build an array (★☆☆)"
      ],
      "metadata": {
        "id": "RvYb-55kPOzl"
      }
    },
    {
      "cell_type": "code",
      "source": [
        "def generate_integers():\n",
        "    for i in range(10):\n",
        "        yield i\n",
        "np.fromiter(generate_integers(), dtype=np.float32, count=-1)"
      ],
      "metadata": {
        "colab": {
          "base_uri": "https://localhost:8080/"
        },
        "id": "uZQ_FhzlPSlG",
        "outputId": "d97d2d02-ace9-4a35-935e-1de022349f68"
      },
      "execution_count": null,
      "outputs": [
        {
          "output_type": "execute_result",
          "data": {
            "text/plain": [
              "array([0., 1., 2., 3., 4., 5., 6., 7., 8., 9.], dtype=float32)"
            ]
          },
          "metadata": {},
          "execution_count": 15
        }
      ]
    },
    {
      "cell_type": "markdown",
      "source": [
        " 39. Create a vector of size 10 with values ranging from 0 to 1, both excluded (★★☆)\n"
      ],
      "metadata": {
        "id": "4_xPTNdgPjYN"
      }
    },
    {
      "cell_type": "code",
      "source": [
        "np.linspace(start=0, stop=11, num=10, endpoint=False)"
      ],
      "metadata": {
        "colab": {
          "base_uri": "https://localhost:8080/"
        },
        "id": "v_87wNUEPm6e",
        "outputId": "54ec7645-a224-4fa7-a628-3b9b8477a94e"
      },
      "execution_count": null,
      "outputs": [
        {
          "output_type": "execute_result",
          "data": {
            "text/plain": [
              "array([0. , 1.1, 2.2, 3.3, 4.4, 5.5, 6.6, 7.7, 8.8, 9.9])"
            ]
          },
          "metadata": {},
          "execution_count": 16
        }
      ]
    },
    {
      "cell_type": "markdown",
      "source": [
        "40. Create a random vector of size 10 and sort it (★★☆)\n"
      ],
      "metadata": {
        "id": "Fa0SOP6fP0u4"
      }
    },
    {
      "cell_type": "code",
      "source": [
        "x = np.random.random(size=10)\n",
        "x.sort()\n"
      ],
      "metadata": {
        "id": "aXs9xj7SP3zA"
      },
      "execution_count": null,
      "outputs": []
    },
    {
      "cell_type": "markdown",
      "source": [
        "41. How to sum a small array faster than np.sum? (★★☆)\n"
      ],
      "metadata": {
        "id": "dka-MAqhQDuC"
      }
    },
    {
      "cell_type": "code",
      "source": [
        "import time\n",
        "\n",
        "begin_time = time.time()\n",
        "x = np.arange(1000000)\n",
        "np.sum(x)\n",
        "end_time = time.time()\n",
        "print(str(1000*(end_time - begin_time)))\n",
        "\n",
        "begin_time2 = time.time()\n",
        "x = np.arange(1000000)\n",
        "np.add.reduce(x)\n",
        "end_time2 = time.time()\n",
        "print(str(1000*(end_time2 - begin_time2)))"
      ],
      "metadata": {
        "colab": {
          "base_uri": "https://localhost:8080/"
        },
        "id": "cWMWzXD3QMp6",
        "outputId": "3d965639-8f74-4a38-c7c5-f135f10ea827"
      },
      "execution_count": null,
      "outputs": [
        {
          "output_type": "stream",
          "name": "stdout",
          "text": [
            "6.775379180908203\n",
            "4.526376724243164\n"
          ]
        }
      ]
    },
    {
      "cell_type": "markdown",
      "source": [
        "42. Consider two random array A and B, check if they are equal (★★☆)\n"
      ],
      "metadata": {
        "id": "FCQTVR2bQPr1"
      }
    },
    {
      "cell_type": "code",
      "source": [
        "A = np.arange(10)\n",
        "B = np.arange(10)\n",
        "np.array_equal(A, B)"
      ],
      "metadata": {
        "colab": {
          "base_uri": "https://localhost:8080/"
        },
        "id": "im6St7IyQXY4",
        "outputId": "280dd57d-7954-43f6-9322-c458b339e332"
      },
      "execution_count": null,
      "outputs": [
        {
          "output_type": "execute_result",
          "data": {
            "text/plain": [
              "True"
            ]
          },
          "metadata": {},
          "execution_count": 21
        }
      ]
    },
    {
      "cell_type": "markdown",
      "source": [
        "\n",
        "43. Make an array immutable (read-only) (★★☆)\n"
      ],
      "metadata": {
        "id": "zDzdntOSQe_a"
      }
    },
    {
      "cell_type": "code",
      "source": [
        "x = np.zeros(10)\n",
        "x.flags.writeable = False\n",
        "x[1] = 1   # ValueError: assignment destination is read-only"
      ],
      "metadata": {
        "colab": {
          "base_uri": "https://localhost:8080/",
          "height": 200
        },
        "id": "n4MWfRKRQhWJ",
        "outputId": "436c4ea5-c7a2-4454-94fd-391c522fe4e0"
      },
      "execution_count": null,
      "outputs": [
        {
          "output_type": "error",
          "ename": "ValueError",
          "evalue": "ignored",
          "traceback": [
            "\u001b[0;31m---------------------------------------------------------------------------\u001b[0m",
            "\u001b[0;31mValueError\u001b[0m                                Traceback (most recent call last)",
            "\u001b[0;32m<ipython-input-23-8afd2f2bde16>\u001b[0m in \u001b[0;36m<module>\u001b[0;34m\u001b[0m\n\u001b[1;32m      1\u001b[0m \u001b[0mx\u001b[0m \u001b[0;34m=\u001b[0m \u001b[0mnp\u001b[0m\u001b[0;34m.\u001b[0m\u001b[0mzeros\u001b[0m\u001b[0;34m(\u001b[0m\u001b[0;36m10\u001b[0m\u001b[0;34m)\u001b[0m\u001b[0;34m\u001b[0m\u001b[0;34m\u001b[0m\u001b[0m\n\u001b[1;32m      2\u001b[0m \u001b[0mx\u001b[0m\u001b[0;34m.\u001b[0m\u001b[0mflags\u001b[0m\u001b[0;34m.\u001b[0m\u001b[0mwriteable\u001b[0m \u001b[0;34m=\u001b[0m \u001b[0;32mFalse\u001b[0m\u001b[0;34m\u001b[0m\u001b[0;34m\u001b[0m\u001b[0m\n\u001b[0;32m----> 3\u001b[0;31m \u001b[0mx\u001b[0m\u001b[0;34m[\u001b[0m\u001b[0;36m1\u001b[0m\u001b[0;34m]\u001b[0m \u001b[0;34m=\u001b[0m \u001b[0;36m1\u001b[0m   \u001b[0;31m# ValueError: assignment destination is read-only\u001b[0m\u001b[0;34m\u001b[0m\u001b[0;34m\u001b[0m\u001b[0m\n\u001b[0m",
            "\u001b[0;31mValueError\u001b[0m: assignment destination is read-only"
          ]
        }
      ]
    },
    {
      "cell_type": "markdown",
      "source": [
        "44. Consider a random 10x2 matrix representing cartesian coordinates, convert them to polar coordinates (★★☆)\n"
      ],
      "metadata": {
        "id": "baBZqKiyQqFf"
      }
    },
    {
      "cell_type": "code",
      "source": [
        "Z = np.random.random((10, 2))\n",
        "X, Y = Z[:, 0], Z[:, 1]\n",
        "R = np.sqrt(X ** 2 + Y ** 2)\n",
        "T = np.arctan2(Y, X)\n",
        "print(R)\n",
        "print(T)"
      ],
      "metadata": {
        "colab": {
          "base_uri": "https://localhost:8080/"
        },
        "id": "oI_rhIyCQwgM",
        "outputId": "5516f3e7-ca4d-4009-a555-20bc67bb62d9"
      },
      "execution_count": null,
      "outputs": [
        {
          "output_type": "stream",
          "name": "stdout",
          "text": [
            "[0.82015553 0.71320106 0.58621921 0.40307222 0.97443062 0.50937958\n",
            " 0.45851817 0.85970525 0.50491191 0.46403625]\n",
            "[0.84106245 0.26742188 1.05387303 1.32895421 1.24448859 1.3993925\n",
            " 1.55196898 1.37889809 0.55289804 0.01404094]\n"
          ]
        }
      ]
    },
    {
      "cell_type": "markdown",
      "source": [
        " 45. Create random vector of size 10 and replace the maximum value by 0 (★★☆)\n"
      ],
      "metadata": {
        "id": "ax88hMZ0Qzoi"
      }
    },
    {
      "cell_type": "code",
      "source": [
        "x = np.random.random(10)\n",
        "x[x == np.max(x)] = 0\n",
        "x[x.argmax()] = 0"
      ],
      "metadata": {
        "id": "jj-sc0omQ5-_"
      },
      "execution_count": null,
      "outputs": []
    },
    {
      "cell_type": "markdown",
      "source": [
        "46. Create a structured array with x and y coordinates covering the [0,1]x[0,1] area (★★☆)\n"
      ],
      "metadata": {
        "id": "c4oqVswvRFAB"
      }
    },
    {
      "cell_type": "code",
      "source": [
        "z = np.zeros((5, 5), [('x', float), ('y', float)])\n",
        "z['x'], z['y'] = np.meshgrid(np.linspace(0, 1, 5), np.linspace(0, 1, 5))"
      ],
      "metadata": {
        "id": "pmF58npMRI3Z"
      },
      "execution_count": null,
      "outputs": []
    },
    {
      "cell_type": "markdown",
      "source": [
        "47. Given two arrays, X and Y, construct the Cauchy matrix C (Cij =1/(xi - yj))\n"
      ],
      "metadata": {
        "id": "jKTcNpsJRSCq"
      }
    },
    {
      "cell_type": "code",
      "source": [
        "x = np.random.random((5, 5))\n",
        "y = np.random.random((5, 5))\n",
        "c = 1 / (x - y)\n",
        "c = 1 / np.subtract.outer(x, y)\n",
        "np.linalg.det(c)"
      ],
      "metadata": {
        "colab": {
          "base_uri": "https://localhost:8080/"
        },
        "id": "l6B8KpcORViX",
        "outputId": "2bfdd0e2-5a3a-4659-e51b-8994ec94336b"
      },
      "execution_count": null,
      "outputs": [
        {
          "output_type": "execute_result",
          "data": {
            "text/plain": [
              "array([[-6.46870941e+04, -6.56099172e+03, -1.89502036e+04,\n",
              "        -3.88437226e+04, -3.72650883e+04],\n",
              "       [ 1.64708432e+04, -3.35351552e+04,  8.96600978e+06,\n",
              "         3.77419278e+06,  1.02215711e+06],\n",
              "       [-2.13539172e+04,  6.00340583e+06,  1.29434399e+06,\n",
              "         8.54458324e+03, -4.44435700e+04],\n",
              "       [-3.73052763e+04, -1.80366051e+04, -2.17844515e+05,\n",
              "        -3.70418696e+04, -8.89467066e+06],\n",
              "       [-1.72345666e+05, -2.63777901e+07,  9.77693802e+03,\n",
              "         5.58364213e+04,  4.94341955e+04]])"
            ]
          },
          "metadata": {},
          "execution_count": 27
        }
      ]
    },
    {
      "cell_type": "markdown",
      "source": [
        "47. Given two arrays, X and Y, construct the Cauchy matrix C (Cij =1/(xi - yj))"
      ],
      "metadata": {
        "id": "v2QTKiwGRyju"
      }
    },
    {
      "cell_type": "code",
      "source": [
        "X = np.arange(8)\n",
        "Y = X + 0.5\n",
        "C = 1.0 / np.subtract.outer(X, Y)\n",
        "print(np.linalg.det(C))"
      ],
      "metadata": {
        "colab": {
          "base_uri": "https://localhost:8080/"
        },
        "id": "k6Q43hJoR0J0",
        "outputId": "a4387da1-1f15-4666-da83-5569ceaa3e15"
      },
      "execution_count": null,
      "outputs": [
        {
          "output_type": "stream",
          "name": "stdout",
          "text": [
            "3638.163637117973\n"
          ]
        }
      ]
    },
    {
      "cell_type": "markdown",
      "source": [
        "\n",
        "48. Print the minimum and maximum representable value for each numpy scalar type (★★☆)"
      ],
      "metadata": {
        "id": "M9IEcTIcaQ01"
      }
    },
    {
      "cell_type": "code",
      "source": [
        "for dtype in [np.int8, np.int32, np.int64]:\n",
        "   print(np.iinfo(dtype).min)\n",
        "   print(np.iinfo(dtype).max)\n",
        "for dtype in [np.float32, np.float64]:\n",
        "   print(np.finfo(dtype).min)\n",
        "   print(np.finfo(dtype).max)\n",
        "   print(np.finfo(dtype).eps)"
      ],
      "metadata": {
        "colab": {
          "base_uri": "https://localhost:8080/"
        },
        "id": "qG3o-XpsaT4g",
        "outputId": "d1930f80-4887-46c4-9a43-e9ee6db43c45"
      },
      "execution_count": null,
      "outputs": [
        {
          "output_type": "stream",
          "name": "stdout",
          "text": [
            "-128\n",
            "127\n",
            "-2147483648\n",
            "2147483647\n",
            "-9223372036854775808\n",
            "9223372036854775807\n",
            "-3.4028235e+38\n",
            "3.4028235e+38\n",
            "1.1920929e-07\n",
            "-1.7976931348623157e+308\n",
            "1.7976931348623157e+308\n",
            "2.220446049250313e-16\n"
          ]
        }
      ]
    },
    {
      "cell_type": "markdown",
      "source": [
        " 49. How to print all the values of an array? (★★☆)"
      ],
      "metadata": {
        "id": "mtz5dMYJajSW"
      }
    },
    {
      "cell_type": "code",
      "source": [
        "np.set_printoptions(threshold=float(\"inf\"))\n",
        "Z = np.zeros((40,40))\n",
        "print(Z)"
      ],
      "metadata": {
        "colab": {
          "base_uri": "https://localhost:8080/"
        },
        "id": "u2ysbXsraliA",
        "outputId": "41f18800-8eeb-4f0a-b20e-f405eade5a26"
      },
      "execution_count": null,
      "outputs": [
        {
          "output_type": "stream",
          "name": "stdout",
          "text": [
            "[[0. 0. 0. 0. 0. 0. 0. 0. 0. 0. 0. 0. 0. 0. 0. 0. 0. 0. 0. 0. 0. 0. 0. 0.\n",
            "  0. 0. 0. 0. 0. 0. 0. 0. 0. 0. 0. 0. 0. 0. 0. 0.]\n",
            " [0. 0. 0. 0. 0. 0. 0. 0. 0. 0. 0. 0. 0. 0. 0. 0. 0. 0. 0. 0. 0. 0. 0. 0.\n",
            "  0. 0. 0. 0. 0. 0. 0. 0. 0. 0. 0. 0. 0. 0. 0. 0.]\n",
            " [0. 0. 0. 0. 0. 0. 0. 0. 0. 0. 0. 0. 0. 0. 0. 0. 0. 0. 0. 0. 0. 0. 0. 0.\n",
            "  0. 0. 0. 0. 0. 0. 0. 0. 0. 0. 0. 0. 0. 0. 0. 0.]\n",
            " [0. 0. 0. 0. 0. 0. 0. 0. 0. 0. 0. 0. 0. 0. 0. 0. 0. 0. 0. 0. 0. 0. 0. 0.\n",
            "  0. 0. 0. 0. 0. 0. 0. 0. 0. 0. 0. 0. 0. 0. 0. 0.]\n",
            " [0. 0. 0. 0. 0. 0. 0. 0. 0. 0. 0. 0. 0. 0. 0. 0. 0. 0. 0. 0. 0. 0. 0. 0.\n",
            "  0. 0. 0. 0. 0. 0. 0. 0. 0. 0. 0. 0. 0. 0. 0. 0.]\n",
            " [0. 0. 0. 0. 0. 0. 0. 0. 0. 0. 0. 0. 0. 0. 0. 0. 0. 0. 0. 0. 0. 0. 0. 0.\n",
            "  0. 0. 0. 0. 0. 0. 0. 0. 0. 0. 0. 0. 0. 0. 0. 0.]\n",
            " [0. 0. 0. 0. 0. 0. 0. 0. 0. 0. 0. 0. 0. 0. 0. 0. 0. 0. 0. 0. 0. 0. 0. 0.\n",
            "  0. 0. 0. 0. 0. 0. 0. 0. 0. 0. 0. 0. 0. 0. 0. 0.]\n",
            " [0. 0. 0. 0. 0. 0. 0. 0. 0. 0. 0. 0. 0. 0. 0. 0. 0. 0. 0. 0. 0. 0. 0. 0.\n",
            "  0. 0. 0. 0. 0. 0. 0. 0. 0. 0. 0. 0. 0. 0. 0. 0.]\n",
            " [0. 0. 0. 0. 0. 0. 0. 0. 0. 0. 0. 0. 0. 0. 0. 0. 0. 0. 0. 0. 0. 0. 0. 0.\n",
            "  0. 0. 0. 0. 0. 0. 0. 0. 0. 0. 0. 0. 0. 0. 0. 0.]\n",
            " [0. 0. 0. 0. 0. 0. 0. 0. 0. 0. 0. 0. 0. 0. 0. 0. 0. 0. 0. 0. 0. 0. 0. 0.\n",
            "  0. 0. 0. 0. 0. 0. 0. 0. 0. 0. 0. 0. 0. 0. 0. 0.]\n",
            " [0. 0. 0. 0. 0. 0. 0. 0. 0. 0. 0. 0. 0. 0. 0. 0. 0. 0. 0. 0. 0. 0. 0. 0.\n",
            "  0. 0. 0. 0. 0. 0. 0. 0. 0. 0. 0. 0. 0. 0. 0. 0.]\n",
            " [0. 0. 0. 0. 0. 0. 0. 0. 0. 0. 0. 0. 0. 0. 0. 0. 0. 0. 0. 0. 0. 0. 0. 0.\n",
            "  0. 0. 0. 0. 0. 0. 0. 0. 0. 0. 0. 0. 0. 0. 0. 0.]\n",
            " [0. 0. 0. 0. 0. 0. 0. 0. 0. 0. 0. 0. 0. 0. 0. 0. 0. 0. 0. 0. 0. 0. 0. 0.\n",
            "  0. 0. 0. 0. 0. 0. 0. 0. 0. 0. 0. 0. 0. 0. 0. 0.]\n",
            " [0. 0. 0. 0. 0. 0. 0. 0. 0. 0. 0. 0. 0. 0. 0. 0. 0. 0. 0. 0. 0. 0. 0. 0.\n",
            "  0. 0. 0. 0. 0. 0. 0. 0. 0. 0. 0. 0. 0. 0. 0. 0.]\n",
            " [0. 0. 0. 0. 0. 0. 0. 0. 0. 0. 0. 0. 0. 0. 0. 0. 0. 0. 0. 0. 0. 0. 0. 0.\n",
            "  0. 0. 0. 0. 0. 0. 0. 0. 0. 0. 0. 0. 0. 0. 0. 0.]\n",
            " [0. 0. 0. 0. 0. 0. 0. 0. 0. 0. 0. 0. 0. 0. 0. 0. 0. 0. 0. 0. 0. 0. 0. 0.\n",
            "  0. 0. 0. 0. 0. 0. 0. 0. 0. 0. 0. 0. 0. 0. 0. 0.]\n",
            " [0. 0. 0. 0. 0. 0. 0. 0. 0. 0. 0. 0. 0. 0. 0. 0. 0. 0. 0. 0. 0. 0. 0. 0.\n",
            "  0. 0. 0. 0. 0. 0. 0. 0. 0. 0. 0. 0. 0. 0. 0. 0.]\n",
            " [0. 0. 0. 0. 0. 0. 0. 0. 0. 0. 0. 0. 0. 0. 0. 0. 0. 0. 0. 0. 0. 0. 0. 0.\n",
            "  0. 0. 0. 0. 0. 0. 0. 0. 0. 0. 0. 0. 0. 0. 0. 0.]\n",
            " [0. 0. 0. 0. 0. 0. 0. 0. 0. 0. 0. 0. 0. 0. 0. 0. 0. 0. 0. 0. 0. 0. 0. 0.\n",
            "  0. 0. 0. 0. 0. 0. 0. 0. 0. 0. 0. 0. 0. 0. 0. 0.]\n",
            " [0. 0. 0. 0. 0. 0. 0. 0. 0. 0. 0. 0. 0. 0. 0. 0. 0. 0. 0. 0. 0. 0. 0. 0.\n",
            "  0. 0. 0. 0. 0. 0. 0. 0. 0. 0. 0. 0. 0. 0. 0. 0.]\n",
            " [0. 0. 0. 0. 0. 0. 0. 0. 0. 0. 0. 0. 0. 0. 0. 0. 0. 0. 0. 0. 0. 0. 0. 0.\n",
            "  0. 0. 0. 0. 0. 0. 0. 0. 0. 0. 0. 0. 0. 0. 0. 0.]\n",
            " [0. 0. 0. 0. 0. 0. 0. 0. 0. 0. 0. 0. 0. 0. 0. 0. 0. 0. 0. 0. 0. 0. 0. 0.\n",
            "  0. 0. 0. 0. 0. 0. 0. 0. 0. 0. 0. 0. 0. 0. 0. 0.]\n",
            " [0. 0. 0. 0. 0. 0. 0. 0. 0. 0. 0. 0. 0. 0. 0. 0. 0. 0. 0. 0. 0. 0. 0. 0.\n",
            "  0. 0. 0. 0. 0. 0. 0. 0. 0. 0. 0. 0. 0. 0. 0. 0.]\n",
            " [0. 0. 0. 0. 0. 0. 0. 0. 0. 0. 0. 0. 0. 0. 0. 0. 0. 0. 0. 0. 0. 0. 0. 0.\n",
            "  0. 0. 0. 0. 0. 0. 0. 0. 0. 0. 0. 0. 0. 0. 0. 0.]\n",
            " [0. 0. 0. 0. 0. 0. 0. 0. 0. 0. 0. 0. 0. 0. 0. 0. 0. 0. 0. 0. 0. 0. 0. 0.\n",
            "  0. 0. 0. 0. 0. 0. 0. 0. 0. 0. 0. 0. 0. 0. 0. 0.]\n",
            " [0. 0. 0. 0. 0. 0. 0. 0. 0. 0. 0. 0. 0. 0. 0. 0. 0. 0. 0. 0. 0. 0. 0. 0.\n",
            "  0. 0. 0. 0. 0. 0. 0. 0. 0. 0. 0. 0. 0. 0. 0. 0.]\n",
            " [0. 0. 0. 0. 0. 0. 0. 0. 0. 0. 0. 0. 0. 0. 0. 0. 0. 0. 0. 0. 0. 0. 0. 0.\n",
            "  0. 0. 0. 0. 0. 0. 0. 0. 0. 0. 0. 0. 0. 0. 0. 0.]\n",
            " [0. 0. 0. 0. 0. 0. 0. 0. 0. 0. 0. 0. 0. 0. 0. 0. 0. 0. 0. 0. 0. 0. 0. 0.\n",
            "  0. 0. 0. 0. 0. 0. 0. 0. 0. 0. 0. 0. 0. 0. 0. 0.]\n",
            " [0. 0. 0. 0. 0. 0. 0. 0. 0. 0. 0. 0. 0. 0. 0. 0. 0. 0. 0. 0. 0. 0. 0. 0.\n",
            "  0. 0. 0. 0. 0. 0. 0. 0. 0. 0. 0. 0. 0. 0. 0. 0.]\n",
            " [0. 0. 0. 0. 0. 0. 0. 0. 0. 0. 0. 0. 0. 0. 0. 0. 0. 0. 0. 0. 0. 0. 0. 0.\n",
            "  0. 0. 0. 0. 0. 0. 0. 0. 0. 0. 0. 0. 0. 0. 0. 0.]\n",
            " [0. 0. 0. 0. 0. 0. 0. 0. 0. 0. 0. 0. 0. 0. 0. 0. 0. 0. 0. 0. 0. 0. 0. 0.\n",
            "  0. 0. 0. 0. 0. 0. 0. 0. 0. 0. 0. 0. 0. 0. 0. 0.]\n",
            " [0. 0. 0. 0. 0. 0. 0. 0. 0. 0. 0. 0. 0. 0. 0. 0. 0. 0. 0. 0. 0. 0. 0. 0.\n",
            "  0. 0. 0. 0. 0. 0. 0. 0. 0. 0. 0. 0. 0. 0. 0. 0.]\n",
            " [0. 0. 0. 0. 0. 0. 0. 0. 0. 0. 0. 0. 0. 0. 0. 0. 0. 0. 0. 0. 0. 0. 0. 0.\n",
            "  0. 0. 0. 0. 0. 0. 0. 0. 0. 0. 0. 0. 0. 0. 0. 0.]\n",
            " [0. 0. 0. 0. 0. 0. 0. 0. 0. 0. 0. 0. 0. 0. 0. 0. 0. 0. 0. 0. 0. 0. 0. 0.\n",
            "  0. 0. 0. 0. 0. 0. 0. 0. 0. 0. 0. 0. 0. 0. 0. 0.]\n",
            " [0. 0. 0. 0. 0. 0. 0. 0. 0. 0. 0. 0. 0. 0. 0. 0. 0. 0. 0. 0. 0. 0. 0. 0.\n",
            "  0. 0. 0. 0. 0. 0. 0. 0. 0. 0. 0. 0. 0. 0. 0. 0.]\n",
            " [0. 0. 0. 0. 0. 0. 0. 0. 0. 0. 0. 0. 0. 0. 0. 0. 0. 0. 0. 0. 0. 0. 0. 0.\n",
            "  0. 0. 0. 0. 0. 0. 0. 0. 0. 0. 0. 0. 0. 0. 0. 0.]\n",
            " [0. 0. 0. 0. 0. 0. 0. 0. 0. 0. 0. 0. 0. 0. 0. 0. 0. 0. 0. 0. 0. 0. 0. 0.\n",
            "  0. 0. 0. 0. 0. 0. 0. 0. 0. 0. 0. 0. 0. 0. 0. 0.]\n",
            " [0. 0. 0. 0. 0. 0. 0. 0. 0. 0. 0. 0. 0. 0. 0. 0. 0. 0. 0. 0. 0. 0. 0. 0.\n",
            "  0. 0. 0. 0. 0. 0. 0. 0. 0. 0. 0. 0. 0. 0. 0. 0.]\n",
            " [0. 0. 0. 0. 0. 0. 0. 0. 0. 0. 0. 0. 0. 0. 0. 0. 0. 0. 0. 0. 0. 0. 0. 0.\n",
            "  0. 0. 0. 0. 0. 0. 0. 0. 0. 0. 0. 0. 0. 0. 0. 0.]\n",
            " [0. 0. 0. 0. 0. 0. 0. 0. 0. 0. 0. 0. 0. 0. 0. 0. 0. 0. 0. 0. 0. 0. 0. 0.\n",
            "  0. 0. 0. 0. 0. 0. 0. 0. 0. 0. 0. 0. 0. 0. 0. 0.]]\n"
          ]
        }
      ]
    },
    {
      "cell_type": "markdown",
      "source": [
        "50. How to find the closest value (to a given scalar) in a vector? (★★☆)"
      ],
      "metadata": {
        "id": "sfTqiPHbaxZd"
      }
    },
    {
      "cell_type": "code",
      "source": [
        "Z = np.arange(100)\n",
        "v = np.random.uniform(0,100)\n",
        "index = (np.abs(Z-v)).argmin()\n",
        "print(Z[index])"
      ],
      "metadata": {
        "colab": {
          "base_uri": "https://localhost:8080/"
        },
        "id": "4ng1JAlxa3kX",
        "outputId": "53d629f4-4a15-4929-b564-94a523234dc2"
      },
      "execution_count": null,
      "outputs": [
        {
          "output_type": "stream",
          "name": "stdout",
          "text": [
            "13\n"
          ]
        }
      ]
    },
    {
      "cell_type": "markdown",
      "source": [
        "\n",
        "51. Create a structured array representing a position (x,y) and a color (r,g,b) (★★☆)"
      ],
      "metadata": {
        "id": "-SG8UkzstGim"
      }
    },
    {
      "cell_type": "code",
      "source": [
        "Z = np.zeros(10, [ ('position', [ ('x', float, 1),\n",
        "                                  ('y', float, 1)]),\n",
        "                   ('color',    [ ('r', float, 1),\n",
        "                                  ('g', float, 1),\n",
        "                                  ('b', float, 1)])])\n",
        "print(Z)"
      ],
      "metadata": {
        "colab": {
          "base_uri": "https://localhost:8080/"
        },
        "id": "lWKB3cHQtSHU",
        "outputId": "82e37e78-8a5b-4afc-9604-b23498df5e60"
      },
      "execution_count": null,
      "outputs": [
        {
          "output_type": "stream",
          "name": "stdout",
          "text": [
            "[((0., 0.), (0., 0., 0.)) ((0., 0.), (0., 0., 0.))\n",
            " ((0., 0.), (0., 0., 0.)) ((0., 0.), (0., 0., 0.))\n",
            " ((0., 0.), (0., 0., 0.)) ((0., 0.), (0., 0., 0.))\n",
            " ((0., 0.), (0., 0., 0.)) ((0., 0.), (0., 0., 0.))\n",
            " ((0., 0.), (0., 0., 0.)) ((0., 0.), (0., 0., 0.))]\n"
          ]
        },
        {
          "output_type": "stream",
          "name": "stderr",
          "text": [
            "/usr/local/lib/python3.7/dist-packages/ipykernel_launcher.py:5: FutureWarning: Passing (type, 1) or '1type' as a synonym of type is deprecated; in a future version of numpy, it will be understood as (type, (1,)) / '(1,)type'.\n",
            "  \"\"\"\n"
          ]
        }
      ]
    },
    {
      "cell_type": "markdown",
      "source": [
        "52. Consider a random vector with shape (100,2) representing coordinates, find point by point distances (★★☆)\n"
      ],
      "metadata": {
        "id": "dPDVQAzttppf"
      }
    },
    {
      "cell_type": "code",
      "source": [
        "Z = np.random.random((10,2))\n",
        "X,Y = np.atleast_2d(Z[:,0], Z[:,1])\n",
        "D = np.sqrt( (X-X.T)**2 + (Y-Y.T)**2)\n",
        "print(D)\n",
        "\n",
        "import scipy\n",
        "import scipy.spatial\n",
        "\n",
        "Z = np.random.random((10,2))\n",
        "D = scipy.spatial.distance.cdist(Z,Z)\n",
        "print(D)"
      ],
      "metadata": {
        "colab": {
          "base_uri": "https://localhost:8080/"
        },
        "id": "Ls-9SWqDt0vc",
        "outputId": "c32ae32e-5251-40f5-be11-f7c92b9c6cf8"
      },
      "execution_count": null,
      "outputs": [
        {
          "output_type": "stream",
          "name": "stdout",
          "text": [
            "[[0.         1.08792252 0.80302509 0.95898092 0.55361162 1.002452\n",
            "  0.04613512 0.19877435 0.31426409 0.61511332]\n",
            " [1.08792252 0.         0.29570973 0.86112268 0.75038417 0.29301002\n",
            "  1.05206427 0.94098235 0.8560641  0.56763044]\n",
            " [0.80302509 0.29570973 0.         0.6812998  0.56360246 0.37361743\n",
            "  0.76491326 0.64740905 0.56038583 0.28265091]\n",
            " [0.95898092 0.86112268 0.6812998  0.         1.09847832 1.04998556\n",
            "  0.91374273 0.764461   0.65612048 0.49801063]\n",
            " [0.55361162 0.75038417 0.56360246 1.09847832 0.         0.54726453\n",
            "  0.54581324 0.54918979 0.5677262  0.60270169]\n",
            " [1.002452   0.29301002 0.37361743 1.04998556 0.54726453 0.\n",
            "  0.97581034 0.90041573 0.84576265 0.63691624]\n",
            " [0.04613512 1.05206427 0.76491326 0.91374273 0.54581324 0.97581034\n",
            "  0.         0.15264115 0.26815263 0.57092708]\n",
            " [0.19877435 0.94098235 0.64740905 0.764461   0.54918979 0.90041573\n",
            "  0.15264115 0.         0.11587114 0.42832132]\n",
            " [0.31426409 0.8560641  0.56038583 0.65612048 0.5677262  0.84576265\n",
            "  0.26815263 0.11587114 0.         0.32037011]\n",
            " [0.61511332 0.56763044 0.28265091 0.49801063 0.60270169 0.63691624\n",
            "  0.57092708 0.42832132 0.32037011 0.        ]]\n",
            "[[0.         0.29884951 0.27490362 0.03286501 0.37615957 0.50637672\n",
            "  0.28614889 0.37821502 0.60497131 0.28130552]\n",
            " [0.29884951 0.         0.13566664 0.31040082 0.34480592 0.30284185\n",
            "  0.58162548 0.21853985 0.69028442 0.31893524]\n",
            " [0.27490362 0.13566664 0.         0.29889584 0.45448964 0.43848581\n",
            "  0.55648995 0.34874419 0.78062881 0.40534949]\n",
            " [0.03286501 0.31040082 0.29889584 0.         0.35478836 0.49872341\n",
            "  0.27123014 0.36960767 0.57318136 0.25742147]\n",
            " [0.37615957 0.34480592 0.45448964 0.35478836 0.         0.24313635\n",
            "  0.53689078 0.16259442 0.35595657 0.10171544]\n",
            " [0.50637672 0.30284185 0.43848581 0.49872341 0.24313635 0.\n",
            "  0.7364227  0.12937902 0.56567863 0.31382063]\n",
            " [0.28614889 0.58162548 0.55648995 0.27123014 0.53689078 0.7364227\n",
            "  0.         0.60907154 0.59526028 0.43808358]\n",
            " [0.37821502 0.21853985 0.34874419 0.36960767 0.16259442 0.12937902\n",
            "  0.60907154 0.         0.5169597  0.20120753]\n",
            " [0.60497131 0.69028442 0.78062881 0.57318136 0.35595657 0.56567863\n",
            "  0.59526028 0.5169597  0.         0.37571453]\n",
            " [0.28130552 0.31893524 0.40534949 0.25742147 0.10171544 0.31382063\n",
            "  0.43808358 0.20120753 0.37571453 0.        ]]\n"
          ]
        }
      ]
    },
    {
      "cell_type": "markdown",
      "source": [
        "53. How to convert a float (32 bits) array into an integer (32 bits) in place?"
      ],
      "metadata": {
        "id": "3JwiwFr0uCiL"
      }
    },
    {
      "cell_type": "code",
      "source": [
        "Z = (np.random.rand(10)*100).astype(np.float32)\n",
        "Y = Z.view(np.int32)\n",
        "Y[:] = Z\n",
        "print(Y)"
      ],
      "metadata": {
        "colab": {
          "base_uri": "https://localhost:8080/"
        },
        "id": "sJEmljyiuHWa",
        "outputId": "8da9bd1c-fd50-4767-ac09-7d7df4d8bcc5"
      },
      "execution_count": null,
      "outputs": [
        {
          "output_type": "stream",
          "name": "stdout",
          "text": [
            "[10 23  4 45  2 64 44 58 76 67]\n"
          ]
        }
      ]
    },
    {
      "cell_type": "markdown",
      "source": [
        "54. How to read the following file? (★★☆)"
      ],
      "metadata": {
        "id": "9jkeCavJubXk"
      }
    },
    {
      "cell_type": "code",
      "source": [
        "from io import StringIO\n",
        "\n",
        "# Fake file\n",
        "s = StringIO('''1, 2, 3, 4, 5\n",
        "                6,  ,  , 7, 8\n",
        "                 ,  , 9,10,11\n",
        "''')\n",
        "Z = np.genfromtxt(s, delimiter=\",\", dtype=np.int)\n",
        "print(Z)"
      ],
      "metadata": {
        "colab": {
          "base_uri": "https://localhost:8080/"
        },
        "id": "1FIDqo0Humua",
        "outputId": "1bf3dadf-76d7-4282-9553-0217e1f4d8e4"
      },
      "execution_count": null,
      "outputs": [
        {
          "output_type": "stream",
          "name": "stdout",
          "text": [
            "[[ 1  2  3  4  5]\n",
            " [ 6 -1 -1  7  8]\n",
            " [-1 -1  9 10 11]]\n"
          ]
        },
        {
          "output_type": "stream",
          "name": "stderr",
          "text": [
            "/usr/local/lib/python3.7/dist-packages/ipykernel_launcher.py:8: DeprecationWarning: `np.int` is a deprecated alias for the builtin `int`. To silence this warning, use `int` by itself. Doing this will not modify any behavior and is safe. When replacing `np.int`, you may wish to use e.g. `np.int64` or `np.int32` to specify the precision. If you wish to review your current use, check the release note link for additional information.\n",
            "Deprecated in NumPy 1.20; for more details and guidance: https://numpy.org/devdocs/release/1.20.0-notes.html#deprecations\n",
            "  \n"
          ]
        }
      ]
    },
    {
      "cell_type": "markdown",
      "source": [
        "55. What is the equivalent of enumerate for numpy arrays? (★★☆)\n"
      ],
      "metadata": {
        "id": "ibVCiToAvCwA"
      }
    },
    {
      "cell_type": "code",
      "source": [
        "Z = np.arange(9).reshape(3,3)\n",
        "for index, value in np.ndenumerate(Z):\n",
        "    print(index, value)\n",
        "for index in np.ndindex(Z.shape):\n",
        "    print(index, Z[index])"
      ],
      "metadata": {
        "colab": {
          "base_uri": "https://localhost:8080/"
        },
        "id": "R7tv10tpvES8",
        "outputId": "3c1e267e-7f62-4edf-bf20-a21dc82c7f67"
      },
      "execution_count": null,
      "outputs": [
        {
          "output_type": "stream",
          "name": "stdout",
          "text": [
            "(0, 0) 0\n",
            "(0, 1) 1\n",
            "(0, 2) 2\n",
            "(1, 0) 3\n",
            "(1, 1) 4\n",
            "(1, 2) 5\n",
            "(2, 0) 6\n",
            "(2, 1) 7\n",
            "(2, 2) 8\n",
            "(0, 0) 0\n",
            "(0, 1) 1\n",
            "(0, 2) 2\n",
            "(1, 0) 3\n",
            "(1, 1) 4\n",
            "(1, 2) 5\n",
            "(2, 0) 6\n",
            "(2, 1) 7\n",
            "(2, 2) 8\n"
          ]
        }
      ]
    },
    {
      "cell_type": "markdown",
      "source": [
        "56. Generate a generic 2D Gaussian-like array (★★☆)"
      ],
      "metadata": {
        "id": "LkQC4CHAvPiT"
      }
    },
    {
      "cell_type": "code",
      "source": [
        "X, Y = np.meshgrid(np.linspace(-1,1,10), np.linspace(-1,1,10))\n",
        "D = np.sqrt(X*X+Y*Y)\n",
        "sigma, mu = 1.0, 0.0\n",
        "G = np.exp(-( (D-mu)**2 / ( 2.0 * sigma**2 ) ) )\n",
        "print(G)"
      ],
      "metadata": {
        "colab": {
          "base_uri": "https://localhost:8080/"
        },
        "id": "awQ6lIgPvUZb",
        "outputId": "8488fe67-c8ab-4455-eff1-bb4f7572a4e0"
      },
      "execution_count": null,
      "outputs": [
        {
          "output_type": "stream",
          "name": "stdout",
          "text": [
            "[[0.36787944 0.44822088 0.51979489 0.57375342 0.60279818 0.60279818\n",
            "  0.57375342 0.51979489 0.44822088 0.36787944]\n",
            " [0.44822088 0.54610814 0.63331324 0.69905581 0.73444367 0.73444367\n",
            "  0.69905581 0.63331324 0.54610814 0.44822088]\n",
            " [0.51979489 0.63331324 0.73444367 0.81068432 0.85172308 0.85172308\n",
            "  0.81068432 0.73444367 0.63331324 0.51979489]\n",
            " [0.57375342 0.69905581 0.81068432 0.89483932 0.9401382  0.9401382\n",
            "  0.89483932 0.81068432 0.69905581 0.57375342]\n",
            " [0.60279818 0.73444367 0.85172308 0.9401382  0.98773022 0.98773022\n",
            "  0.9401382  0.85172308 0.73444367 0.60279818]\n",
            " [0.60279818 0.73444367 0.85172308 0.9401382  0.98773022 0.98773022\n",
            "  0.9401382  0.85172308 0.73444367 0.60279818]\n",
            " [0.57375342 0.69905581 0.81068432 0.89483932 0.9401382  0.9401382\n",
            "  0.89483932 0.81068432 0.69905581 0.57375342]\n",
            " [0.51979489 0.63331324 0.73444367 0.81068432 0.85172308 0.85172308\n",
            "  0.81068432 0.73444367 0.63331324 0.51979489]\n",
            " [0.44822088 0.54610814 0.63331324 0.69905581 0.73444367 0.73444367\n",
            "  0.69905581 0.63331324 0.54610814 0.44822088]\n",
            " [0.36787944 0.44822088 0.51979489 0.57375342 0.60279818 0.60279818\n",
            "  0.57375342 0.51979489 0.44822088 0.36787944]]\n"
          ]
        }
      ]
    },
    {
      "cell_type": "markdown",
      "source": [
        " 57. How to randomly place p elements in a 2D array? (★★☆)"
      ],
      "metadata": {
        "id": "-jHfR_zRvfRH"
      }
    },
    {
      "cell_type": "code",
      "source": [
        "n = 10\n",
        "p = 3\n",
        "Z = np.zeros((n,n))\n",
        "np.put(Z, np.random.choice(range(n*n), p, replace=False),1)\n",
        "print(Z)"
      ],
      "metadata": {
        "colab": {
          "base_uri": "https://localhost:8080/"
        },
        "id": "1g5GWEgnvhTf",
        "outputId": "adf86d2b-ea33-4653-8afa-20b69f42d634"
      },
      "execution_count": null,
      "outputs": [
        {
          "output_type": "stream",
          "name": "stdout",
          "text": [
            "[[0. 0. 0. 0. 0. 0. 0. 0. 0. 0.]\n",
            " [0. 0. 0. 0. 0. 0. 0. 0. 0. 0.]\n",
            " [0. 0. 0. 0. 0. 0. 0. 0. 0. 0.]\n",
            " [0. 0. 0. 0. 0. 1. 0. 0. 0. 0.]\n",
            " [0. 0. 0. 0. 0. 0. 0. 1. 0. 0.]\n",
            " [0. 0. 0. 0. 0. 0. 0. 0. 0. 0.]\n",
            " [0. 0. 0. 0. 0. 0. 0. 0. 0. 0.]\n",
            " [0. 0. 0. 0. 0. 0. 0. 0. 0. 0.]\n",
            " [0. 0. 0. 0. 1. 0. 0. 0. 0. 0.]\n",
            " [0. 0. 0. 0. 0. 0. 0. 0. 0. 0.]]\n"
          ]
        }
      ]
    },
    {
      "cell_type": "markdown",
      "source": [
        " 58. Subtract the mean of each row of a matrix (★★☆)"
      ],
      "metadata": {
        "id": "jmCb7zgKvo3M"
      }
    },
    {
      "cell_type": "code",
      "source": [
        "X = np.random.rand(5, 10)\n",
        "\n",
        "# Recent versions of numpy\n",
        "Y = X - X.mean(axis=1, keepdims=True)\n",
        "\n",
        "# Older versions of numpy\n",
        "Y = X - X.mean(axis=1).reshape(-1, 1)\n",
        "\n",
        "print(Y)"
      ],
      "metadata": {
        "colab": {
          "base_uri": "https://localhost:8080/"
        },
        "id": "NBfZjCGGvu1f",
        "outputId": "89a12f15-8c5c-401a-a945-164a7bd1bbf1"
      },
      "execution_count": null,
      "outputs": [
        {
          "output_type": "stream",
          "name": "stdout",
          "text": [
            "[[ 0.05073168  0.25395257 -0.16097339 -0.15045441  0.00454556 -0.1308721\n",
            "   0.33714717 -0.18577457 -0.16550801  0.14720552]\n",
            " [-0.33254868  0.02682566 -0.19712082 -0.09494742 -0.38606476  0.12304507\n",
            "  -0.18572122  0.39756394  0.44522873  0.20373948]\n",
            " [-0.57262924  0.0985585  -0.17517214 -0.15504177  0.25451746  0.14360688\n",
            "  -0.1774597   0.1402626   0.11366346  0.32969395]\n",
            " [ 0.12914252 -0.45202709  0.40607569 -0.02306651 -0.00967082  0.26117686\n",
            "  -0.42065921 -0.02634231  0.04425312  0.09111776]\n",
            " [ 0.35672727 -0.13370738 -0.29578851  0.43230138  0.23782897  0.10419148\n",
            "  -0.05002361 -0.15178357 -0.27927017 -0.22047586]]\n"
          ]
        }
      ]
    },
    {
      "cell_type": "markdown",
      "source": [
        " 59. How to sort an array by the nth column? (★★☆)"
      ],
      "metadata": {
        "id": "6H6bjtBOv-w6"
      }
    },
    {
      "cell_type": "code",
      "source": [
        "Z = np.random.randint(0,10,(3,3))\n",
        "print(Z)\n",
        "print(Z[Z[:,1].argsort()])"
      ],
      "metadata": {
        "colab": {
          "base_uri": "https://localhost:8080/"
        },
        "id": "VQZHbIMswA4V",
        "outputId": "fd0b3fdd-c801-42b0-a3ba-ca31756a3b21"
      },
      "execution_count": null,
      "outputs": [
        {
          "output_type": "stream",
          "name": "stdout",
          "text": [
            "[[7 9 9]\n",
            " [9 7 4]\n",
            " [0 0 2]]\n",
            "[[0 0 2]\n",
            " [9 7 4]\n",
            " [7 9 9]]\n"
          ]
        }
      ]
    },
    {
      "cell_type": "markdown",
      "source": [
        "60. How to tell if a given 2D array has null columns? (★★☆)"
      ],
      "metadata": {
        "id": "luMhf2pMwGG6"
      }
    },
    {
      "cell_type": "code",
      "source": [
        "Z = np.random.randint(0,3,(3,10))\n",
        "print((~Z.any(axis=0)).any())\n",
        "\n",
        "# null : np.nan\n",
        "Z=np.array([\n",
        "    [0,1,np.nan],\n",
        "    [1,2,np.nan],\n",
        "    [4,5,np.nan]\n",
        "])\n",
        "print(np.isnan(Z).all(axis=0))"
      ],
      "metadata": {
        "colab": {
          "base_uri": "https://localhost:8080/"
        },
        "id": "vkiH11qTwOVd",
        "outputId": "95bf4a11-d63b-4586-fc62-5f9b72e065a5"
      },
      "execution_count": null,
      "outputs": [
        {
          "output_type": "stream",
          "name": "stdout",
          "text": [
            "False\n",
            "[False False  True]\n"
          ]
        }
      ]
    },
    {
      "cell_type": "markdown",
      "source": [
        " 61. Find the nearest value from a given value in an array (★★☆)\n"
      ],
      "metadata": {
        "id": "nR5Fv88bwROf"
      }
    },
    {
      "cell_type": "code",
      "source": [
        "Z = np.random.uniform(0,1,10)\n",
        "z = 0.5\n",
        "m = Z.flat[np.abs(Z - z).argmin()]\n",
        "print(m)"
      ],
      "metadata": {
        "colab": {
          "base_uri": "https://localhost:8080/"
        },
        "id": "7xixrt92wWwl",
        "outputId": "2bb36301-26e2-4c97-bac8-a7afee592163"
      },
      "execution_count": null,
      "outputs": [
        {
          "output_type": "stream",
          "name": "stdout",
          "text": [
            "0.5156112207430259\n"
          ]
        }
      ]
    },
    {
      "cell_type": "markdown",
      "source": [
        "\n",
        "62. Considering two arrays with shape (1,3) and (3,1), how to compute their sum using an iterator? (★★☆)\n",
        "\n",
        "---\n",
        "\n"
      ],
      "metadata": {
        "id": "pCLkCBTswdat"
      }
    },
    {
      "cell_type": "code",
      "source": [
        "A = np.arange(3).reshape(3,1)\n",
        "B = np.arange(3).reshape(1,3)\n",
        "it = np.nditer([A,B,None])\n",
        "for x,y,z in it: z[...] = x + y\n",
        "print(it.operands[2])"
      ],
      "metadata": {
        "colab": {
          "base_uri": "https://localhost:8080/"
        },
        "id": "AQ6edvakwkW4",
        "outputId": "89a69c42-96a3-4b70-d22c-5c4164735ae6"
      },
      "execution_count": null,
      "outputs": [
        {
          "output_type": "stream",
          "name": "stdout",
          "text": [
            "[[0 1 2]\n",
            " [1 2 3]\n",
            " [2 3 4]]\n"
          ]
        }
      ]
    },
    {
      "cell_type": "markdown",
      "source": [
        "63. Create an array class that has a name attribute (★★☆"
      ],
      "metadata": {
        "id": "TCZ4R5mYws81"
      }
    },
    {
      "cell_type": "code",
      "source": [
        "class NamedArray(np.ndarray):\n",
        "    def __new__(cls, array, name=\"no name\"):\n",
        "        obj = np.asarray(array).view(cls)\n",
        "        obj.name = name\n",
        "        return obj\n",
        "    def __array_finalize__(self, obj):\n",
        "        if obj is None: return\n",
        "        self.name = getattr(obj, 'name', \"no name\")\n",
        "\n",
        "Z = NamedArray(np.arange(10), \"range_10\")\n",
        "print (Z.name)"
      ],
      "metadata": {
        "colab": {
          "base_uri": "https://localhost:8080/"
        },
        "id": "qtWhXBM7w3HH",
        "outputId": "e457db2f-9730-4d52-b9a7-0d5b644bbccc"
      },
      "execution_count": null,
      "outputs": [
        {
          "output_type": "stream",
          "name": "stdout",
          "text": [
            "range_10\n"
          ]
        }
      ]
    },
    {
      "cell_type": "markdown",
      "source": [
        "64. Consider a given vector, how to add 1 to each element indexed by a second vector (be careful with repeated indices)? (★★★)\n",
        "\n"
      ],
      "metadata": {
        "id": "pw_tUfQnw88_"
      }
    },
    {
      "cell_type": "code",
      "source": [
        "Z = np.ones(10)\n",
        "I = np.random.randint(0,len(Z),20)\n",
        "Z += np.bincount(I, minlength=len(Z))\n",
        "print(Z)\n",
        "np.add.at(Z, I, 1)\n",
        "print(Z)"
      ],
      "metadata": {
        "colab": {
          "base_uri": "https://localhost:8080/"
        },
        "id": "9AyPxTV2w_Ai",
        "outputId": "27a81ac3-52fd-424a-de23-b0da6fbe56c0"
      },
      "execution_count": null,
      "outputs": [
        {
          "output_type": "stream",
          "name": "stdout",
          "text": [
            "[4. 3. 1. 1. 4. 3. 4. 2. 4. 4.]\n",
            "[7. 5. 1. 1. 7. 5. 7. 3. 7. 7.]\n"
          ]
        }
      ]
    },
    {
      "cell_type": "markdown",
      "source": [
        "65. How to accumulate elements of a vector (X) to an array (F) based on an index list (I)? (★★★)\n",
        "\n"
      ],
      "metadata": {
        "id": "WMcCD2vuxMXo"
      }
    },
    {
      "cell_type": "code",
      "source": [
        "X = [1,2,3,4,5,6]\n",
        "I = [1,3,9,3,4,1]\n",
        "F = np.bincount(I,X)\n",
        "print(F)"
      ],
      "metadata": {
        "colab": {
          "base_uri": "https://localhost:8080/"
        },
        "id": "T6R-i2H4xQFT",
        "outputId": "4466f960-7ebe-4967-a9f4-e608cde19340"
      },
      "execution_count": null,
      "outputs": [
        {
          "output_type": "stream",
          "name": "stdout",
          "text": [
            "[0. 7. 0. 6. 5. 0. 0. 0. 0. 3.]\n"
          ]
        }
      ]
    },
    {
      "cell_type": "markdown",
      "source": [
        "66. Considering a (w,h,3) image of (dtype=ubyte), compute the number of unique colors (★★☆)"
      ],
      "metadata": {
        "id": "2lyVBxmFxbmz"
      }
    },
    {
      "cell_type": "code",
      "source": [
        "w, h = 256, 256\n",
        "I = np.random.randint(0, 4, (h, w, 3)).astype(np.ubyte)\n",
        "colors = np.unique(I.reshape(-1, 3), axis=0)\n",
        "n = len(colors)\n",
        "print(n)\n",
        "\n",
        "\n",
        "w, h = 256, 256\n",
        "I = np.random.randint(0,4,(h,w,3), dtype=np.uint8)\n",
        "\n",
        "# View each pixel as a single 24-bit integer, rather than three 8-bit bytes\n",
        "I24 = np.dot(I.astype(np.uint32),[1,256,65536])\n",
        "\n",
        "# Count unique colours\n",
        "n = len(np.unique(I24))\n",
        "print(n)"
      ],
      "metadata": {
        "colab": {
          "base_uri": "https://localhost:8080/"
        },
        "id": "oTJN12-oxelN",
        "outputId": "ca4c6a90-8cb9-41e9-afcd-24e9330bfa7b"
      },
      "execution_count": null,
      "outputs": [
        {
          "output_type": "stream",
          "name": "stdout",
          "text": [
            "64\n",
            "64\n"
          ]
        }
      ]
    },
    {
      "cell_type": "markdown",
      "source": [
        "67. Considering a four dimensions array, how to get sum over the last two axis at once? (★★★)\n",
        "\n"
      ],
      "metadata": {
        "id": "INd1M8-hxyvp"
      }
    },
    {
      "cell_type": "code",
      "source": [
        "A = np.random.randint(0,10,(3,4,3,4))\n",
        "sum = A.sum(axis=(-2,-1))\n",
        "print(sum)\n",
        "# solution by flattening the last two dimensions into one\n",
        "# (useful for functions that don't accept tuples for axis argument)\n",
        "sum = A.reshape(A.shape[:-2] + (-1,)).sum(axis=-1)\n",
        "print(sum)"
      ],
      "metadata": {
        "colab": {
          "base_uri": "https://localhost:8080/"
        },
        "id": "E_nTsjBwx0vW",
        "outputId": "b30caa17-5ae2-474d-e052-04bd4026d2fd"
      },
      "execution_count": null,
      "outputs": [
        {
          "output_type": "stream",
          "name": "stdout",
          "text": [
            "[[65 70 53 66]\n",
            " [51 66 59 58]\n",
            " [71 59 60 59]]\n",
            "[[65 70 53 66]\n",
            " [51 66 59 58]\n",
            " [71 59 60 59]]\n"
          ]
        }
      ]
    },
    {
      "cell_type": "markdown",
      "source": [
        "68. Considering a one-dimensional vector D, how to compute means of subsets of D using a vector S of same size describing subset  indices? (★★★)\n"
      ],
      "metadata": {
        "id": "du97b_-0yA45"
      }
    },
    {
      "cell_type": "code",
      "source": [
        "D = np.random.uniform(0,1,100)\n",
        "S = np.random.randint(0,10,100)\n",
        "D_sums = np.bincount(S, weights=D)\n",
        "D_counts = np.bincount(S)\n",
        "D_means = D_sums / D_counts\n",
        "print(D_means)\n",
        "\n",
        "\n",
        "import pandas as pd\n",
        "print(pd.Series(D).groupby(S).mean())"
      ],
      "metadata": {
        "colab": {
          "base_uri": "https://localhost:8080/"
        },
        "id": "z48da2gEyY_j",
        "outputId": "a476bff7-c4fa-4938-f0f3-f7426fd2864b"
      },
      "execution_count": null,
      "outputs": [
        {
          "output_type": "stream",
          "name": "stdout",
          "text": [
            "[0.52533644 0.42255122 0.38989897 0.61914    0.55538298 0.66982728\n",
            " 0.56334774 0.42139414 0.51851377 0.4450034 ]\n",
            "0    0.525336\n",
            "1    0.422551\n",
            "2    0.389899\n",
            "3    0.619140\n",
            "4    0.555383\n",
            "5    0.669827\n",
            "6    0.563348\n",
            "7    0.421394\n",
            "8    0.518514\n",
            "9    0.445003\n",
            "dtype: float64\n"
          ]
        }
      ]
    },
    {
      "cell_type": "markdown",
      "source": [
        " 69. How to get the diagonal of a dot product? (★★★)"
      ],
      "metadata": {
        "id": "7ORoJGF6yov2"
      }
    },
    {
      "cell_type": "code",
      "source": [
        "A = np.random.uniform(0,1,(5,5))\n",
        "B = np.random.uniform(0,1,(5,5))\n",
        "\n",
        "# Slow version\n",
        "np.diag(np.dot(A, B))\n",
        "\n",
        "# Fast version\n",
        "np.sum(A * B.T, axis=1)\n",
        "\n",
        "# Faster version\n",
        "np.einsum(\"ij,ji->i\", A, B)"
      ],
      "metadata": {
        "colab": {
          "base_uri": "https://localhost:8080/"
        },
        "id": "cQMoAgEayrB7",
        "outputId": "93416e9e-9b5b-4d84-a829-186eca8b25e6"
      },
      "execution_count": null,
      "outputs": [
        {
          "output_type": "execute_result",
          "data": {
            "text/plain": [
              "array([1.31859745, 2.32799715, 1.34449248, 1.64687858, 1.13526486])"
            ]
          },
          "metadata": {},
          "execution_count": 22
        }
      ]
    },
    {
      "cell_type": "markdown",
      "source": [
        "70. Consider the vector [1, 2, 3, 4, 5], how to build a new vector with 3 consecutive zeros interleaved between each value? (★★★)\n"
      ],
      "metadata": {
        "id": "SaFTdx5jy6Ri"
      }
    },
    {
      "cell_type": "code",
      "source": [
        "\n",
        "Z = np.array([1,2,3,4,5])\n",
        "nz = 3\n",
        "Z0 = np.zeros(len(Z) + (len(Z)-1)*(nz))\n",
        "Z0[::nz+1] = Z\n",
        "print(Z0)"
      ],
      "metadata": {
        "colab": {
          "base_uri": "https://localhost:8080/"
        },
        "id": "z8E0pj_Oy7Um",
        "outputId": "67cd4cc2-a48d-4697-d8fa-f215efddd4e0"
      },
      "execution_count": null,
      "outputs": [
        {
          "output_type": "stream",
          "name": "stdout",
          "text": [
            "[1. 0. 0. 0. 2. 0. 0. 0. 3. 0. 0. 0. 4. 0. 0. 0. 5.]\n"
          ]
        }
      ]
    },
    {
      "cell_type": "markdown",
      "source": [
        "71. Consider an array of dimension (5,5,3), how to mulitply it by an array with dimensions (5,5)? (★★★)\n"
      ],
      "metadata": {
        "id": "pK9tclP9zAYP"
      }
    },
    {
      "cell_type": "code",
      "source": [
        "A = np.ones((5,5,3))\n",
        "B = 2*np.ones((5,5))\n",
        "print(A * B[:,:,None])"
      ],
      "metadata": {
        "colab": {
          "base_uri": "https://localhost:8080/"
        },
        "id": "BN49Q2QLzEPP",
        "outputId": "75d79a77-8605-4ce7-8cb2-6255fbdec99b"
      },
      "execution_count": null,
      "outputs": [
        {
          "output_type": "stream",
          "name": "stdout",
          "text": [
            "[[[2. 2. 2.]\n",
            "  [2. 2. 2.]\n",
            "  [2. 2. 2.]\n",
            "  [2. 2. 2.]\n",
            "  [2. 2. 2.]]\n",
            "\n",
            " [[2. 2. 2.]\n",
            "  [2. 2. 2.]\n",
            "  [2. 2. 2.]\n",
            "  [2. 2. 2.]\n",
            "  [2. 2. 2.]]\n",
            "\n",
            " [[2. 2. 2.]\n",
            "  [2. 2. 2.]\n",
            "  [2. 2. 2.]\n",
            "  [2. 2. 2.]\n",
            "  [2. 2. 2.]]\n",
            "\n",
            " [[2. 2. 2.]\n",
            "  [2. 2. 2.]\n",
            "  [2. 2. 2.]\n",
            "  [2. 2. 2.]\n",
            "  [2. 2. 2.]]\n",
            "\n",
            " [[2. 2. 2.]\n",
            "  [2. 2. 2.]\n",
            "  [2. 2. 2.]\n",
            "  [2. 2. 2.]\n",
            "  [2. 2. 2.]]]\n"
          ]
        }
      ]
    },
    {
      "cell_type": "markdown",
      "source": [
        " 72. How to swap two rows of an array? (★★★)"
      ],
      "metadata": {
        "id": "W2teSyqSzLlG"
      }
    },
    {
      "cell_type": "code",
      "source": [
        "A = np.arange(25).reshape(5,5)\n",
        "A[[0,1]] = A[[1,0]]\n",
        "print(A)"
      ],
      "metadata": {
        "colab": {
          "base_uri": "https://localhost:8080/"
        },
        "id": "G1C-1cJ7zSGJ",
        "outputId": "16d21681-51ce-48a6-9f54-d0c5cddffd75"
      },
      "execution_count": null,
      "outputs": [
        {
          "output_type": "stream",
          "name": "stdout",
          "text": [
            "[[ 5  6  7  8  9]\n",
            " [ 0  1  2  3  4]\n",
            " [10 11 12 13 14]\n",
            " [15 16 17 18 19]\n",
            " [20 21 22 23 24]]\n"
          ]
        }
      ]
    },
    {
      "cell_type": "markdown",
      "source": [
        "73. Consider a set of 10 triplets describing 10 triangles (with shared vertices), find the set of unique line segments composing all the  triangles (★★★)\n",
        "\n"
      ],
      "metadata": {
        "id": "ZG1HKCt1zkJ2"
      }
    },
    {
      "cell_type": "code",
      "source": [
        "faces = np.random.randint(0,100,(10,3))\n",
        "F = np.roll(faces.repeat(2,axis=1),-1,axis=1)\n",
        "F = F.reshape(len(F)*3,2)\n",
        "F = np.sort(F,axis=1)\n",
        "G = F.view( dtype=[('p0',F.dtype),('p1',F.dtype)] )\n",
        "G = np.unique(G)\n",
        "print(G)"
      ],
      "metadata": {
        "colab": {
          "base_uri": "https://localhost:8080/"
        },
        "id": "SaH_GPdczpQG",
        "outputId": "ebebd847-487b-4bf5-b612-1896a2a22b5a"
      },
      "execution_count": null,
      "outputs": [
        {
          "output_type": "stream",
          "name": "stdout",
          "text": [
            "[( 1, 37) ( 1, 69) ( 6, 44) ( 6, 67) (20, 29) (20, 92) (26, 30) (26, 60)\n",
            " (29, 92) (30, 60) (31, 37) (31, 96) (33, 47) (33, 60) (36, 61) (36, 86)\n",
            " (37, 69) (37, 96) (40, 78) (40, 91) (41, 41) (41, 79) (44, 67) (47, 60)\n",
            " (61, 86) (64, 94) (64, 99) (78, 91) (94, 99)]\n"
          ]
        }
      ]
    },
    {
      "cell_type": "markdown",
      "source": [
        "74. Given a sorted array C that corresponds to a bincount, how to produce an array A such that np.bincount(A) == C? (★★★)\n"
      ],
      "metadata": {
        "id": "m0-BzWGGz3ux"
      }
    },
    {
      "cell_type": "code",
      "source": [
        "C = np.bincount([1,1,2,3,4,4,6])\n",
        "A = np.repeat(np.arange(len(C)), C)\n",
        "print(A)"
      ],
      "metadata": {
        "colab": {
          "base_uri": "https://localhost:8080/"
        },
        "id": "wxdqfj7Ez7XX",
        "outputId": "f7782e98-329b-4c68-f247-f0a928fb45ff"
      },
      "execution_count": null,
      "outputs": [
        {
          "output_type": "stream",
          "name": "stdout",
          "text": [
            "[1 1 2 3 4 4 6]\n"
          ]
        }
      ]
    },
    {
      "cell_type": "markdown",
      "source": [
        "75. How to compute averages using a sliding window over an array? (★★★)\n"
      ],
      "metadata": {
        "id": "eRZSvI8B0A7F"
      }
    },
    {
      "cell_type": "code",
      "source": [
        "def moving_average(a, n=3) :\n",
        "    ret = np.cumsum(a, dtype=float)\n",
        "    ret[n:] = ret[n:] - ret[:-n]\n",
        "    return ret[n - 1:] / n\n",
        "Z = np.arange(20)\n",
        "print(moving_average(Z, n=3))\n",
        "\n",
        "from numpy.lib.stride_tricks import sliding_window_view\n",
        "\n",
        "Z = np.arange(20)\n",
        "print(sliding_window_view(Z, window_shape=3).mean(axis=-1))"
      ],
      "metadata": {
        "colab": {
          "base_uri": "https://localhost:8080/"
        },
        "id": "1XUshdwk0F6g",
        "outputId": "738066e2-4288-4e0e-daf4-589e7eb4bc7a"
      },
      "execution_count": null,
      "outputs": [
        {
          "output_type": "stream",
          "name": "stdout",
          "text": [
            "[ 1.  2.  3.  4.  5.  6.  7.  8.  9. 10. 11. 12. 13. 14. 15. 16. 17. 18.]\n",
            "[ 1.  2.  3.  4.  5.  6.  7.  8.  9. 10. 11. 12. 13. 14. 15. 16. 17. 18.]\n"
          ]
        }
      ]
    },
    {
      "cell_type": "markdown",
      "source": [
        "76. Consider a one-dimensional array Z, build a two-dimensional array whose first row is (Z[0],Z[1],Z[2]) and each subsequent row is  shifted by 1 (last row should be (Z[-3],Z[-2],Z[-1]) (★★★)"
      ],
      "metadata": {
        "id": "IKXBkMU90Ykz"
      }
    },
    {
      "cell_type": "code",
      "source": [
        "from numpy.lib import stride_tricks\n",
        "\n",
        "def rolling(a, window):\n",
        "    shape = (a.size - window + 1, window)\n",
        "    strides = (a.strides[0], a.strides[0])\n",
        "    return stride_tricks.as_strided(a, shape=shape, strides=strides)\n",
        "Z = rolling(np.arange(10), 3)\n",
        "print(Z)\n",
        "\n",
        "Z = np.arange(10)\n",
        "print(sliding_window_view(Z, window_shape=3))"
      ],
      "metadata": {
        "colab": {
          "base_uri": "https://localhost:8080/"
        },
        "id": "xqIgFoYh03zX",
        "outputId": "a5dd7c14-b7a3-42ec-ed47-a764d8dfa22e"
      },
      "execution_count": null,
      "outputs": [
        {
          "output_type": "stream",
          "name": "stdout",
          "text": [
            "[[0 1 2]\n",
            " [1 2 3]\n",
            " [2 3 4]\n",
            " [3 4 5]\n",
            " [4 5 6]\n",
            " [5 6 7]\n",
            " [6 7 8]\n",
            " [7 8 9]]\n",
            "[[0 1 2]\n",
            " [1 2 3]\n",
            " [2 3 4]\n",
            " [3 4 5]\n",
            " [4 5 6]\n",
            " [5 6 7]\n",
            " [6 7 8]\n",
            " [7 8 9]]\n"
          ]
        }
      ]
    },
    {
      "cell_type": "markdown",
      "source": [
        "77. How to negate a boolean, or to change the sign of a float inplace? (★★★)\n"
      ],
      "metadata": {
        "id": "BZWD61661C8L"
      }
    },
    {
      "cell_type": "code",
      "source": [
        "Z = np.random.randint(0,2,100)\n",
        "np.logical_not(Z, out=Z)\n",
        "\n",
        "Z = np.random.uniform(-1.0,1.0,100)\n",
        "np.negative(Z, out=Z)"
      ],
      "metadata": {
        "colab": {
          "base_uri": "https://localhost:8080/"
        },
        "id": "2nx3EzJu1Id-",
        "outputId": "662f6bf0-17a8-4e29-882c-37999f4b08b7"
      },
      "execution_count": null,
      "outputs": [
        {
          "output_type": "execute_result",
          "data": {
            "text/plain": [
              "array([ 0.7261355 ,  0.99602671, -0.28878638,  0.77734343,  0.92685911,\n",
              "        0.94412806,  0.94240722, -0.13471739,  0.56202336, -0.12661819,\n",
              "       -0.73933644,  0.04753515,  0.70532254,  0.12181271, -0.47772525,\n",
              "       -0.37049332,  0.09640564, -0.78035053,  0.56187218, -0.5065446 ,\n",
              "        0.8708823 , -0.43012282, -0.70148393,  0.49693705, -0.26918738,\n",
              "       -0.71913636,  0.04430685, -0.76093016,  0.08636918,  0.920767  ,\n",
              "        0.11369584,  0.00187445,  0.73087213,  0.24719248, -0.92599513,\n",
              "       -0.33030362, -0.71527752, -0.76416804,  0.76077194,  0.80803417,\n",
              "        0.36373705,  0.75322721,  0.73809728,  0.7554498 ,  0.34164398,\n",
              "       -0.19751605, -0.58300513, -0.88819996,  0.46321746,  0.1216422 ,\n",
              "       -0.50400754, -0.81029623, -0.08339185, -0.72226975,  0.98647058,\n",
              "       -0.13796184, -0.34060929,  0.30608351,  0.84230598, -0.46966928,\n",
              "       -0.70303898, -0.49592939,  0.34280469, -0.39732265, -0.39443793,\n",
              "        0.22675894,  0.81001159,  0.65025954, -0.67737274,  0.14062275,\n",
              "        0.92407191,  0.00847323, -0.14900628, -0.78613627,  0.13359168,\n",
              "       -0.34363598,  0.08015757,  0.57884483, -0.8688422 , -0.63054152,\n",
              "        0.48988243,  0.21684265,  0.29467198, -0.94139909, -0.88369078,\n",
              "        0.30867647, -0.34539231,  0.1513039 , -0.78245527, -0.38767083,\n",
              "       -0.33901613, -0.58029433,  0.49534341,  0.22666224, -0.93511684,\n",
              "       -0.30218565, -0.79811082,  0.17590014,  0.23276268,  0.12984566])"
            ]
          },
          "metadata": {},
          "execution_count": 30
        }
      ]
    },
    {
      "cell_type": "markdown",
      "source": [
        "78. Consider 2 sets of points P0,P1 describing lines (2d) and a point p, how to compute distance from p to each line i (P0[i],P1[i])? (★★★)\n"
      ],
      "metadata": {
        "id": "WvoDh2mf1PQD"
      }
    },
    {
      "cell_type": "code",
      "source": [
        "def distance(P0, P1, p):\n",
        "    T = P1 - P0\n",
        "    L = (T**2).sum(axis=1)\n",
        "    U = -((P0[:,0]-p[...,0])*T[:,0] + (P0[:,1]-p[...,1])*T[:,1]) / L\n",
        "    U = U.reshape(len(U),1)\n",
        "    D = P0 + U*T - p\n",
        "    return np.sqrt((D**2).sum(axis=1))\n",
        "\n",
        "P0 = np.random.uniform(-10,10,(10,2))\n",
        "P1 = np.random.uniform(-10,10,(10,2))\n",
        "p  = np.random.uniform(-10,10,( 1,2))\n",
        "print(distance(P0, P1, p))\n"
      ],
      "metadata": {
        "colab": {
          "base_uri": "https://localhost:8080/"
        },
        "id": "yeqicrMw1UK4",
        "outputId": "c391cc6e-967d-4cb8-9642-b401492a8bc3"
      },
      "execution_count": null,
      "outputs": [
        {
          "output_type": "stream",
          "name": "stdout",
          "text": [
            "[ 8.30224785  5.13373774  3.58515206  0.16947476  3.05372623  2.45219302\n",
            " 10.02714095  4.25388487  4.49275137  6.68537311]\n"
          ]
        }
      ]
    },
    {
      "cell_type": "markdown",
      "source": [
        "79. Consider 2 sets of points P0,P1 describing lines (2d) and a set of points P, how to compute distance from each point j (P[j]) to each line i (P0[i],P1[i])? (★★★)\n",
        "\n"
      ],
      "metadata": {
        "id": "tbb4GNHy1Zlg"
      }
    },
    {
      "cell_type": "code",
      "source": [
        "P0 = np.random.uniform(-10, 10, (10,2))\n",
        "P1 = np.random.uniform(-10,10,(10,2))\n",
        "p = np.random.uniform(-10, 10, (10,2))\n",
        "print(np.array([distance(P0,P1,p_i) for p_i in p]))"
      ],
      "metadata": {
        "colab": {
          "base_uri": "https://localhost:8080/"
        },
        "id": "h18eXEpX1h2J",
        "outputId": "f2a0e539-4835-436e-8e7b-fe23309342ec"
      },
      "execution_count": null,
      "outputs": [
        {
          "output_type": "stream",
          "name": "stdout",
          "text": [
            "[[1.11394769e+00 3.26957649e+00 1.85386774e-01 2.87112557e+00\n",
            "  1.12722500e+01 1.44092354e+01 3.71596004e+00 2.42048217e+00\n",
            "  7.41070412e+00 1.30975836e+00]\n",
            " [1.18017910e+01 7.21102698e+00 1.26350587e+01 8.47633426e+00\n",
            "  1.02344011e+00 3.88879108e+00 6.99690348e+00 8.57778506e+00\n",
            "  1.74140991e+01 1.67156650e+00]\n",
            " [2.96929482e+00 1.02069579e+01 1.54887498e+00 8.84454365e+00\n",
            "  6.29975481e+00 9.74720595e+00 7.12802113e-01 1.63868135e+00\n",
            "  4.74385934e-02 1.13005136e+01]\n",
            " [8.47076042e+00 1.19167336e+01 5.35236440e+00 1.14755204e+01\n",
            "  1.39333149e+01 1.73588211e+01 6.87650262e+00 5.90556067e+00\n",
            "  1.20834586e+00 7.72135071e+00]\n",
            " [3.29747980e-01 5.40757431e-02 3.90933544e-01 3.16733699e-02\n",
            "  1.25518104e+01 1.55562883e+01 4.76412753e+00 3.31309562e+00\n",
            "  1.07589192e+01 2.62184818e+00]\n",
            " [2.72111815e+00 6.86018376e+00 7.77132500e+00 4.86120094e+00\n",
            "  2.76604188e-01 3.66788276e+00 6.82879545e+00 7.80354244e+00\n",
            "  3.06829225e+00 1.22241255e+01]\n",
            " [1.18265769e+01 4.41377179e+00 1.42937584e+01 6.24531525e+00\n",
            "  2.33896109e+00 6.66660928e-01 1.01127494e+01 1.15237414e+01\n",
            "  1.43594762e+01 3.28254866e+00]\n",
            " [3.52796290e+00 5.75582420e+00 8.28814763e+00 3.79279185e+00\n",
            "  1.69845211e-01 3.52168508e+00 7.00403488e+00 8.02381192e+00\n",
            "  4.18376905e+00 1.12463181e+01]\n",
            " [2.28008558e+00 1.01722938e+00 2.56758924e+00 1.33634047e+00\n",
            "  1.03975291e+01 1.33865409e+01 2.58468017e+00 1.12148310e+00\n",
            "  1.17116209e+01 2.17189667e+00]\n",
            " [4.98991359e+00 2.90917144e+00 5.35775794e+00 3.47167079e+00\n",
            "  7.88302738e+00 1.08303884e+01 2.22664926e-04 1.50472929e+00\n",
            "  1.34754982e+01 2.25698957e+00]]\n"
          ]
        }
      ]
    },
    {
      "cell_type": "markdown",
      "source": [
        " 80. Consider an arbitrary array, write a function that extract a subpart with a fixed shape and centered on a given element (pad with a `fill` value when necessary) (★★★)\n"
      ],
      "metadata": {
        "id": "0e6gC_uZ1px4"
      }
    },
    {
      "cell_type": "code",
      "source": [
        "Z = np.random.randint(0,10,(10,10))\n",
        "shape = (5,5)\n",
        "fill  = 0\n",
        "position = (1,1)\n",
        "\n",
        "R = np.ones(shape, dtype=Z.dtype)*fill\n",
        "P  = np.array(list(position)).astype(int)\n",
        "Rs = np.array(list(R.shape)).astype(int)\n",
        "Zs = np.array(list(Z.shape)).astype(int)\n",
        "\n",
        "R_start = np.zeros((len(shape),)).astype(int)\n",
        "R_stop  = np.array(list(shape)).astype(int)\n",
        "Z_start = (P-Rs//2)\n",
        "Z_stop  = (P+Rs//2)+Rs%2\n",
        "\n",
        "R_start = (R_start - np.minimum(Z_start,0)).tolist()\n",
        "Z_start = (np.maximum(Z_start,0)).tolist()\n",
        "R_stop = np.maximum(R_start, (R_stop - np.maximum(Z_stop-Zs,0))).tolist()\n",
        "Z_stop = (np.minimum(Z_stop,Zs)).tolist()\n",
        "\n",
        "r = [slice(start,stop) for start,stop in zip(R_start,R_stop)]\n",
        "z = [slice(start,stop) for start,stop in zip(Z_start,Z_stop)]\n",
        "R[r] = Z[z]\n",
        "print(Z)\n",
        "print(R)"
      ],
      "metadata": {
        "colab": {
          "base_uri": "https://localhost:8080/"
        },
        "id": "i21EZnbP2KY5",
        "outputId": "750bad28-5464-465b-fcca-5cd32e51c8da"
      },
      "execution_count": null,
      "outputs": [
        {
          "output_type": "stream",
          "name": "stdout",
          "text": [
            "[[5 7 5 8 0 2 0 8 6 4]\n",
            " [0 9 4 5 6 9 1 7 8 8]\n",
            " [6 6 5 5 1 0 7 5 3 0]\n",
            " [8 9 8 8 1 8 3 7 2 1]\n",
            " [6 2 5 7 5 4 6 2 3 1]\n",
            " [5 1 0 0 8 4 6 1 0 5]\n",
            " [5 1 7 8 0 3 3 0 3 9]\n",
            " [4 6 7 8 2 4 0 1 8 4]\n",
            " [5 7 0 9 5 1 0 0 0 8]\n",
            " [2 5 2 9 9 6 3 0 2 3]]\n",
            "[[0 0 0 0 0]\n",
            " [0 5 7 5 8]\n",
            " [0 0 9 4 5]\n",
            " [0 6 6 5 5]\n",
            " [0 8 9 8 8]]\n"
          ]
        },
        {
          "output_type": "stream",
          "name": "stderr",
          "text": [
            "/usr/local/lib/python3.7/dist-packages/ipykernel_launcher.py:23: FutureWarning: Using a non-tuple sequence for multidimensional indexing is deprecated; use `arr[tuple(seq)]` instead of `arr[seq]`. In the future this will be interpreted as an array index, `arr[np.array(seq)]`, which will result either in an error or a different result.\n"
          ]
        }
      ]
    },
    {
      "cell_type": "markdown",
      "source": [
        "81. Consider an array Z = [1,2,3,4,5,6,7,8,9,10,11,12,13,14], how to generate an array R = [[1,2,3,4], [2,3,4,5], [3,4,5,6], ..., [11,12,13,14]]? (★★★)\n",
        "\n",
        "---\n",
        "\n"
      ],
      "metadata": {
        "id": "aE-0mK-F2EcN"
      }
    },
    {
      "cell_type": "code",
      "source": [
        "\n",
        "Z = np.arange(1,15,dtype=np.uint32)\n",
        "R = stride_tricks.as_strided(Z,(11,4),(4,4))\n",
        "print(R)\n",
        "\n",
        "\n",
        "Z = np.arange(1, 15, dtype=np.uint32)\n",
        "print(sliding_window_view(Z, window_shape=4))"
      ],
      "metadata": {
        "colab": {
          "base_uri": "https://localhost:8080/"
        },
        "id": "CROWSk3m2iX1",
        "outputId": "353f92f9-5401-4a80-9ff3-7b12db9e7b2f"
      },
      "execution_count": null,
      "outputs": [
        {
          "output_type": "stream",
          "name": "stdout",
          "text": [
            "[[ 1  2  3  4]\n",
            " [ 2  3  4  5]\n",
            " [ 3  4  5  6]\n",
            " [ 4  5  6  7]\n",
            " [ 5  6  7  8]\n",
            " [ 6  7  8  9]\n",
            " [ 7  8  9 10]\n",
            " [ 8  9 10 11]\n",
            " [ 9 10 11 12]\n",
            " [10 11 12 13]\n",
            " [11 12 13 14]]\n",
            "[[ 1  2  3  4]\n",
            " [ 2  3  4  5]\n",
            " [ 3  4  5  6]\n",
            " [ 4  5  6  7]\n",
            " [ 5  6  7  8]\n",
            " [ 6  7  8  9]\n",
            " [ 7  8  9 10]\n",
            " [ 8  9 10 11]\n",
            " [ 9 10 11 12]\n",
            " [10 11 12 13]\n",
            " [11 12 13 14]]\n"
          ]
        }
      ]
    },
    {
      "cell_type": "markdown",
      "source": [
        "82. Compute a matrix rank (★★★)"
      ],
      "metadata": {
        "id": "jyNHZgAi2q6o"
      }
    },
    {
      "cell_type": "code",
      "source": [
        "Z = np.random.uniform(0,1,(10,10))\n",
        "U, S, V = np.linalg.svd(Z) # Singular Value Decomposition\n",
        "rank = np.sum(S > 1e-10)\n",
        "print(rank)\n",
        "\n",
        "# alternative solution:\n",
        "\n",
        "rank = np.linalg.matrix_rank(Z)\n",
        "print(rank)"
      ],
      "metadata": {
        "colab": {
          "base_uri": "https://localhost:8080/"
        },
        "id": "W5Upei3M239q",
        "outputId": "3d1c94a6-aad4-47c5-e015-de9e2ebe2d52"
      },
      "execution_count": null,
      "outputs": [
        {
          "output_type": "stream",
          "name": "stdout",
          "text": [
            "10\n",
            "10\n"
          ]
        }
      ]
    },
    {
      "cell_type": "markdown",
      "source": [
        " 83. How to find the most frequent value in an array?\n"
      ],
      "metadata": {
        "id": "LN_8X2h329q_"
      }
    },
    {
      "cell_type": "code",
      "source": [
        "Z = np.random.randint(0,10,50)\n",
        "print(np.bincount(Z).argmax())"
      ],
      "metadata": {
        "colab": {
          "base_uri": "https://localhost:8080/"
        },
        "id": "K-_HedcO3F2f",
        "outputId": "eb3f0ab2-84dd-41fc-f906-fdcee94ea758"
      },
      "execution_count": null,
      "outputs": [
        {
          "output_type": "stream",
          "name": "stdout",
          "text": [
            "3\n"
          ]
        }
      ]
    },
    {
      "cell_type": "markdown",
      "source": [
        "84. Extract all the contiguous 3x3 blocks from a random 10x10 matrix (★★★)"
      ],
      "metadata": {
        "id": "iYs9W4us3LVL"
      }
    },
    {
      "cell_type": "code",
      "source": [
        "\n",
        "Z = np.random.randint(0,5,(10,10))\n",
        "n = 3\n",
        "i = 1 + (Z.shape[0]-3)\n",
        "j = 1 + (Z.shape[1]-3)\n",
        "C = stride_tricks.as_strided(Z, shape=(i, j, n, n), strides=Z.strides + Z.strides)\n",
        "print(C)\n",
        "\n",
        "\n",
        "Z = np.random.randint(0,5,(10,10))\n",
        "print(sliding_window_view(Z, window_shape=(3, 3)))"
      ],
      "metadata": {
        "colab": {
          "base_uri": "https://localhost:8080/"
        },
        "id": "7gBPBgjL3MXi",
        "outputId": "8d33be8c-5d7b-46d8-bee1-05ffc571f138"
      },
      "execution_count": null,
      "outputs": [
        {
          "output_type": "stream",
          "name": "stdout",
          "text": [
            "[[[[3 3 0]\n",
            "   [3 2 4]\n",
            "   [2 0 0]]\n",
            "\n",
            "  [[3 0 1]\n",
            "   [2 4 2]\n",
            "   [0 0 3]]\n",
            "\n",
            "  [[0 1 0]\n",
            "   [4 2 0]\n",
            "   [0 3 1]]\n",
            "\n",
            "  [[1 0 2]\n",
            "   [2 0 0]\n",
            "   [3 1 3]]\n",
            "\n",
            "  [[0 2 2]\n",
            "   [0 0 0]\n",
            "   [1 3 4]]\n",
            "\n",
            "  [[2 2 2]\n",
            "   [0 0 2]\n",
            "   [3 4 3]]\n",
            "\n",
            "  [[2 2 2]\n",
            "   [0 2 3]\n",
            "   [4 3 1]]\n",
            "\n",
            "  [[2 2 3]\n",
            "   [2 3 3]\n",
            "   [3 1 2]]]\n",
            "\n",
            "\n",
            " [[[3 2 4]\n",
            "   [2 0 0]\n",
            "   [1 3 4]]\n",
            "\n",
            "  [[2 4 2]\n",
            "   [0 0 3]\n",
            "   [3 4 4]]\n",
            "\n",
            "  [[4 2 0]\n",
            "   [0 3 1]\n",
            "   [4 4 4]]\n",
            "\n",
            "  [[2 0 0]\n",
            "   [3 1 3]\n",
            "   [4 4 4]]\n",
            "\n",
            "  [[0 0 0]\n",
            "   [1 3 4]\n",
            "   [4 4 3]]\n",
            "\n",
            "  [[0 0 2]\n",
            "   [3 4 3]\n",
            "   [4 3 4]]\n",
            "\n",
            "  [[0 2 3]\n",
            "   [4 3 1]\n",
            "   [3 4 0]]\n",
            "\n",
            "  [[2 3 3]\n",
            "   [3 1 2]\n",
            "   [4 0 2]]]\n",
            "\n",
            "\n",
            " [[[2 0 0]\n",
            "   [1 3 4]\n",
            "   [3 2 3]]\n",
            "\n",
            "  [[0 0 3]\n",
            "   [3 4 4]\n",
            "   [2 3 2]]\n",
            "\n",
            "  [[0 3 1]\n",
            "   [4 4 4]\n",
            "   [3 2 1]]\n",
            "\n",
            "  [[3 1 3]\n",
            "   [4 4 4]\n",
            "   [2 1 1]]\n",
            "\n",
            "  [[1 3 4]\n",
            "   [4 4 3]\n",
            "   [1 1 2]]\n",
            "\n",
            "  [[3 4 3]\n",
            "   [4 3 4]\n",
            "   [1 2 0]]\n",
            "\n",
            "  [[4 3 1]\n",
            "   [3 4 0]\n",
            "   [2 0 3]]\n",
            "\n",
            "  [[3 1 2]\n",
            "   [4 0 2]\n",
            "   [0 3 3]]]\n",
            "\n",
            "\n",
            " [[[1 3 4]\n",
            "   [3 2 3]\n",
            "   [4 2 3]]\n",
            "\n",
            "  [[3 4 4]\n",
            "   [2 3 2]\n",
            "   [2 3 1]]\n",
            "\n",
            "  [[4 4 4]\n",
            "   [3 2 1]\n",
            "   [3 1 4]]\n",
            "\n",
            "  [[4 4 4]\n",
            "   [2 1 1]\n",
            "   [1 4 4]]\n",
            "\n",
            "  [[4 4 3]\n",
            "   [1 1 2]\n",
            "   [4 4 4]]\n",
            "\n",
            "  [[4 3 4]\n",
            "   [1 2 0]\n",
            "   [4 4 2]]\n",
            "\n",
            "  [[3 4 0]\n",
            "   [2 0 3]\n",
            "   [4 2 1]]\n",
            "\n",
            "  [[4 0 2]\n",
            "   [0 3 3]\n",
            "   [2 1 3]]]\n",
            "\n",
            "\n",
            " [[[3 2 3]\n",
            "   [4 2 3]\n",
            "   [3 3 0]]\n",
            "\n",
            "  [[2 3 2]\n",
            "   [2 3 1]\n",
            "   [3 0 4]]\n",
            "\n",
            "  [[3 2 1]\n",
            "   [3 1 4]\n",
            "   [0 4 3]]\n",
            "\n",
            "  [[2 1 1]\n",
            "   [1 4 4]\n",
            "   [4 3 2]]\n",
            "\n",
            "  [[1 1 2]\n",
            "   [4 4 4]\n",
            "   [3 2 1]]\n",
            "\n",
            "  [[1 2 0]\n",
            "   [4 4 2]\n",
            "   [2 1 4]]\n",
            "\n",
            "  [[2 0 3]\n",
            "   [4 2 1]\n",
            "   [1 4 4]]\n",
            "\n",
            "  [[0 3 3]\n",
            "   [2 1 3]\n",
            "   [4 4 2]]]\n",
            "\n",
            "\n",
            " [[[4 2 3]\n",
            "   [3 3 0]\n",
            "   [3 3 4]]\n",
            "\n",
            "  [[2 3 1]\n",
            "   [3 0 4]\n",
            "   [3 4 1]]\n",
            "\n",
            "  [[3 1 4]\n",
            "   [0 4 3]\n",
            "   [4 1 0]]\n",
            "\n",
            "  [[1 4 4]\n",
            "   [4 3 2]\n",
            "   [1 0 4]]\n",
            "\n",
            "  [[4 4 4]\n",
            "   [3 2 1]\n",
            "   [0 4 3]]\n",
            "\n",
            "  [[4 4 2]\n",
            "   [2 1 4]\n",
            "   [4 3 2]]\n",
            "\n",
            "  [[4 2 1]\n",
            "   [1 4 4]\n",
            "   [3 2 0]]\n",
            "\n",
            "  [[2 1 3]\n",
            "   [4 4 2]\n",
            "   [2 0 4]]]\n",
            "\n",
            "\n",
            " [[[3 3 0]\n",
            "   [3 3 4]\n",
            "   [4 2 1]]\n",
            "\n",
            "  [[3 0 4]\n",
            "   [3 4 1]\n",
            "   [2 1 0]]\n",
            "\n",
            "  [[0 4 3]\n",
            "   [4 1 0]\n",
            "   [1 0 3]]\n",
            "\n",
            "  [[4 3 2]\n",
            "   [1 0 4]\n",
            "   [0 3 1]]\n",
            "\n",
            "  [[3 2 1]\n",
            "   [0 4 3]\n",
            "   [3 1 0]]\n",
            "\n",
            "  [[2 1 4]\n",
            "   [4 3 2]\n",
            "   [1 0 0]]\n",
            "\n",
            "  [[1 4 4]\n",
            "   [3 2 0]\n",
            "   [0 0 3]]\n",
            "\n",
            "  [[4 4 2]\n",
            "   [2 0 4]\n",
            "   [0 3 3]]]\n",
            "\n",
            "\n",
            " [[[3 3 4]\n",
            "   [4 2 1]\n",
            "   [0 4 3]]\n",
            "\n",
            "  [[3 4 1]\n",
            "   [2 1 0]\n",
            "   [4 3 4]]\n",
            "\n",
            "  [[4 1 0]\n",
            "   [1 0 3]\n",
            "   [3 4 0]]\n",
            "\n",
            "  [[1 0 4]\n",
            "   [0 3 1]\n",
            "   [4 0 4]]\n",
            "\n",
            "  [[0 4 3]\n",
            "   [3 1 0]\n",
            "   [0 4 4]]\n",
            "\n",
            "  [[4 3 2]\n",
            "   [1 0 0]\n",
            "   [4 4 2]]\n",
            "\n",
            "  [[3 2 0]\n",
            "   [0 0 3]\n",
            "   [4 2 3]]\n",
            "\n",
            "  [[2 0 4]\n",
            "   [0 3 3]\n",
            "   [2 3 2]]]]\n",
            "[[[[0 4 0]\n",
            "   [3 3 0]\n",
            "   [1 1 2]]\n",
            "\n",
            "  [[4 0 1]\n",
            "   [3 0 3]\n",
            "   [1 2 3]]\n",
            "\n",
            "  [[0 1 3]\n",
            "   [0 3 4]\n",
            "   [2 3 0]]\n",
            "\n",
            "  [[1 3 4]\n",
            "   [3 4 1]\n",
            "   [3 0 0]]\n",
            "\n",
            "  [[3 4 4]\n",
            "   [4 1 1]\n",
            "   [0 0 4]]\n",
            "\n",
            "  [[4 4 4]\n",
            "   [1 1 2]\n",
            "   [0 4 3]]\n",
            "\n",
            "  [[4 4 4]\n",
            "   [1 2 4]\n",
            "   [4 3 2]]\n",
            "\n",
            "  [[4 4 0]\n",
            "   [2 4 1]\n",
            "   [3 2 0]]]\n",
            "\n",
            "\n",
            " [[[3 3 0]\n",
            "   [1 1 2]\n",
            "   [3 1 0]]\n",
            "\n",
            "  [[3 0 3]\n",
            "   [1 2 3]\n",
            "   [1 0 3]]\n",
            "\n",
            "  [[0 3 4]\n",
            "   [2 3 0]\n",
            "   [0 3 2]]\n",
            "\n",
            "  [[3 4 1]\n",
            "   [3 0 0]\n",
            "   [3 2 2]]\n",
            "\n",
            "  [[4 1 1]\n",
            "   [0 0 4]\n",
            "   [2 2 4]]\n",
            "\n",
            "  [[1 1 2]\n",
            "   [0 4 3]\n",
            "   [2 4 1]]\n",
            "\n",
            "  [[1 2 4]\n",
            "   [4 3 2]\n",
            "   [4 1 1]]\n",
            "\n",
            "  [[2 4 1]\n",
            "   [3 2 0]\n",
            "   [1 1 0]]]\n",
            "\n",
            "\n",
            " [[[1 1 2]\n",
            "   [3 1 0]\n",
            "   [1 4 1]]\n",
            "\n",
            "  [[1 2 3]\n",
            "   [1 0 3]\n",
            "   [4 1 0]]\n",
            "\n",
            "  [[2 3 0]\n",
            "   [0 3 2]\n",
            "   [1 0 0]]\n",
            "\n",
            "  [[3 0 0]\n",
            "   [3 2 2]\n",
            "   [0 0 0]]\n",
            "\n",
            "  [[0 0 4]\n",
            "   [2 2 4]\n",
            "   [0 0 3]]\n",
            "\n",
            "  [[0 4 3]\n",
            "   [2 4 1]\n",
            "   [0 3 3]]\n",
            "\n",
            "  [[4 3 2]\n",
            "   [4 1 1]\n",
            "   [3 3 3]]\n",
            "\n",
            "  [[3 2 0]\n",
            "   [1 1 0]\n",
            "   [3 3 0]]]\n",
            "\n",
            "\n",
            " [[[3 1 0]\n",
            "   [1 4 1]\n",
            "   [1 3 0]]\n",
            "\n",
            "  [[1 0 3]\n",
            "   [4 1 0]\n",
            "   [3 0 1]]\n",
            "\n",
            "  [[0 3 2]\n",
            "   [1 0 0]\n",
            "   [0 1 3]]\n",
            "\n",
            "  [[3 2 2]\n",
            "   [0 0 0]\n",
            "   [1 3 4]]\n",
            "\n",
            "  [[2 2 4]\n",
            "   [0 0 3]\n",
            "   [3 4 1]]\n",
            "\n",
            "  [[2 4 1]\n",
            "   [0 3 3]\n",
            "   [4 1 3]]\n",
            "\n",
            "  [[4 1 1]\n",
            "   [3 3 3]\n",
            "   [1 3 2]]\n",
            "\n",
            "  [[1 1 0]\n",
            "   [3 3 0]\n",
            "   [3 2 0]]]\n",
            "\n",
            "\n",
            " [[[1 4 1]\n",
            "   [1 3 0]\n",
            "   [3 1 0]]\n",
            "\n",
            "  [[4 1 0]\n",
            "   [3 0 1]\n",
            "   [1 0 3]]\n",
            "\n",
            "  [[1 0 0]\n",
            "   [0 1 3]\n",
            "   [0 3 1]]\n",
            "\n",
            "  [[0 0 0]\n",
            "   [1 3 4]\n",
            "   [3 1 2]]\n",
            "\n",
            "  [[0 0 3]\n",
            "   [3 4 1]\n",
            "   [1 2 2]]\n",
            "\n",
            "  [[0 3 3]\n",
            "   [4 1 3]\n",
            "   [2 2 4]]\n",
            "\n",
            "  [[3 3 3]\n",
            "   [1 3 2]\n",
            "   [2 4 1]]\n",
            "\n",
            "  [[3 3 0]\n",
            "   [3 2 0]\n",
            "   [4 1 0]]]\n",
            "\n",
            "\n",
            " [[[1 3 0]\n",
            "   [3 1 0]\n",
            "   [4 2 1]]\n",
            "\n",
            "  [[3 0 1]\n",
            "   [1 0 3]\n",
            "   [2 1 4]]\n",
            "\n",
            "  [[0 1 3]\n",
            "   [0 3 1]\n",
            "   [1 4 1]]\n",
            "\n",
            "  [[1 3 4]\n",
            "   [3 1 2]\n",
            "   [4 1 3]]\n",
            "\n",
            "  [[3 4 1]\n",
            "   [1 2 2]\n",
            "   [1 3 3]]\n",
            "\n",
            "  [[4 1 3]\n",
            "   [2 2 4]\n",
            "   [3 3 0]]\n",
            "\n",
            "  [[1 3 2]\n",
            "   [2 4 1]\n",
            "   [3 0 3]]\n",
            "\n",
            "  [[3 2 0]\n",
            "   [4 1 0]\n",
            "   [0 3 4]]]\n",
            "\n",
            "\n",
            " [[[3 1 0]\n",
            "   [4 2 1]\n",
            "   [4 2 0]]\n",
            "\n",
            "  [[1 0 3]\n",
            "   [2 1 4]\n",
            "   [2 0 3]]\n",
            "\n",
            "  [[0 3 1]\n",
            "   [1 4 1]\n",
            "   [0 3 1]]\n",
            "\n",
            "  [[3 1 2]\n",
            "   [4 1 3]\n",
            "   [3 1 3]]\n",
            "\n",
            "  [[1 2 2]\n",
            "   [1 3 3]\n",
            "   [1 3 0]]\n",
            "\n",
            "  [[2 2 4]\n",
            "   [3 3 0]\n",
            "   [3 0 2]]\n",
            "\n",
            "  [[2 4 1]\n",
            "   [3 0 3]\n",
            "   [0 2 0]]\n",
            "\n",
            "  [[4 1 0]\n",
            "   [0 3 4]\n",
            "   [2 0 3]]]\n",
            "\n",
            "\n",
            " [[[4 2 1]\n",
            "   [4 2 0]\n",
            "   [4 2 0]]\n",
            "\n",
            "  [[2 1 4]\n",
            "   [2 0 3]\n",
            "   [2 0 1]]\n",
            "\n",
            "  [[1 4 1]\n",
            "   [0 3 1]\n",
            "   [0 1 1]]\n",
            "\n",
            "  [[4 1 3]\n",
            "   [3 1 3]\n",
            "   [1 1 3]]\n",
            "\n",
            "  [[1 3 3]\n",
            "   [1 3 0]\n",
            "   [1 3 2]]\n",
            "\n",
            "  [[3 3 0]\n",
            "   [3 0 2]\n",
            "   [3 2 4]]\n",
            "\n",
            "  [[3 0 3]\n",
            "   [0 2 0]\n",
            "   [2 4 4]]\n",
            "\n",
            "  [[0 3 4]\n",
            "   [2 0 3]\n",
            "   [4 4 2]]]]\n"
          ]
        }
      ]
    },
    {
      "cell_type": "markdown",
      "source": [
        "85. Create a 2D array subclass such that Z[i,j] == Z[j,i] (★★★)"
      ],
      "metadata": {
        "id": "TpSpsrdG3aBv"
      }
    },
    {
      "cell_type": "code",
      "source": [
        "class Symetric(np.ndarray):\n",
        "    def __setitem__(self, index, value):\n",
        "        i,j = index\n",
        "        super(Symetric, self).__setitem__((i,j), value)\n",
        "        super(Symetric, self).__setitem__((j,i), value)\n",
        "\n",
        "def symetric(Z):\n",
        "    return np.asarray(Z + Z.T - np.diag(Z.diagonal())).view(Symetric)\n",
        "\n",
        "S = symetric(np.random.randint(0,10,(5,5)))\n",
        "S[2,3] = 42\n",
        "print(S)"
      ],
      "metadata": {
        "colab": {
          "base_uri": "https://localhost:8080/"
        },
        "id": "hVNThvwS3fUA",
        "outputId": "d015c7da-ce49-4e43-be53-5a6e7e95cf66"
      },
      "execution_count": null,
      "outputs": [
        {
          "output_type": "stream",
          "name": "stdout",
          "text": [
            "[[ 6  4  4 11 10]\n",
            " [ 4  2 14  9 12]\n",
            " [ 4 14  6 42  3]\n",
            " [11  9 42  7 12]\n",
            " [10 12  3 12  5]]\n"
          ]
        }
      ]
    },
    {
      "cell_type": "markdown",
      "source": [
        "86. Consider a set of p matrices wich shape (n,n) and a set of p vectors with shape (n,1). How to compute the sum of of the p matrix products at once? (result has shape (n,1)) (★★★)\n"
      ],
      "metadata": {
        "id": "3H7Op4sD3yU7"
      }
    },
    {
      "cell_type": "code",
      "source": [
        "p, n = 10, 20\n",
        "M = np.ones((p,n,n))\n",
        "V = np.ones((p,n,1))\n",
        "S = np.tensordot(M, V, axes=[[0, 2], [0, 1]])\n",
        "print(S)\n"
      ],
      "metadata": {
        "colab": {
          "base_uri": "https://localhost:8080/"
        },
        "id": "i5fylomp35QY",
        "outputId": "6138b8fb-0e9b-46cd-de00-3930653114e5"
      },
      "execution_count": null,
      "outputs": [
        {
          "output_type": "stream",
          "name": "stdout",
          "text": [
            "[[200.]\n",
            " [200.]\n",
            " [200.]\n",
            " [200.]\n",
            " [200.]\n",
            " [200.]\n",
            " [200.]\n",
            " [200.]\n",
            " [200.]\n",
            " [200.]\n",
            " [200.]\n",
            " [200.]\n",
            " [200.]\n",
            " [200.]\n",
            " [200.]\n",
            " [200.]\n",
            " [200.]\n",
            " [200.]\n",
            " [200.]\n",
            " [200.]]\n"
          ]
        }
      ]
    },
    {
      "cell_type": "markdown",
      "source": [
        "87. Consider a 16x16 array, how to get the block-sum (block size is 4x4)? (★★★)"
      ],
      "metadata": {
        "id": "N_f_hdkm4OIu"
      }
    },
    {
      "cell_type": "code",
      "source": [
        "Z = np.ones((16,16))\n",
        "k = 4\n",
        "S = np.add.reduceat(np.add.reduceat(Z, np.arange(0, Z.shape[0], k), axis=0),\n",
        "                                       np.arange(0, Z.shape[1], k), axis=1)\n",
        "print(S)\n",
        "\n",
        "# alternative solution:\n",
        "\n",
        "\n",
        "Z = np.ones((16,16))\n",
        "k = 4\n",
        "\n",
        "windows = np.lib.stride_tricks.sliding_window_view(Z, (k, k))\n",
        "S = windows[::k, ::k, ...].sum(axis=(-2, -1))\n",
        "\n",
        "\n",
        "Z = np.ones((16, 16))\n",
        "k = 4\n",
        "print(sliding_window_view(Z, window_shape=(k, k))[::k, ::k].sum(axis=(-2, -1)))"
      ],
      "metadata": {
        "colab": {
          "base_uri": "https://localhost:8080/"
        },
        "id": "Qc4Lp4H04Zws",
        "outputId": "938c8c4b-84c2-4130-fb84-a6d69925fdc7"
      },
      "execution_count": null,
      "outputs": [
        {
          "output_type": "stream",
          "name": "stdout",
          "text": [
            "[[16. 16. 16. 16.]\n",
            " [16. 16. 16. 16.]\n",
            " [16. 16. 16. 16.]\n",
            " [16. 16. 16. 16.]]\n",
            "[[16. 16. 16. 16.]\n",
            " [16. 16. 16. 16.]\n",
            " [16. 16. 16. 16.]\n",
            " [16. 16. 16. 16.]]\n"
          ]
        }
      ]
    },
    {
      "cell_type": "markdown",
      "source": [
        "88. How to implement the Game of Life using numpy arrays? (★★★)\n"
      ],
      "metadata": {
        "id": "N_luKUvd4g2I"
      }
    },
    {
      "cell_type": "code",
      "source": [
        "def iterate(Z):\n",
        "    \n",
        "    N = (Z[0:-2,0:-2] + Z[0:-2,1:-1] + Z[0:-2,2:] +\n",
        "         Z[1:-1,0:-2]                + Z[1:-1,2:] +\n",
        "         Z[2:  ,0:-2] + Z[2:  ,1:-1] + Z[2:  ,2:])\n",
        "\n",
        "    \n",
        "    birth = (N==3) & (Z[1:-1,1:-1]==0)\n",
        "    survive = ((N==2) | (N==3)) & (Z[1:-1,1:-1]==1)\n",
        "    Z[...] = 0\n",
        "    Z[1:-1,1:-1][birth | survive] = 1\n",
        "    return Z\n",
        "\n",
        "Z = np.random.randint(0,2,(50,50))\n",
        "for i in range(100): Z = iterate(Z)\n",
        "print(Z)"
      ],
      "metadata": {
        "colab": {
          "base_uri": "https://localhost:8080/"
        },
        "id": "BZMDqz3y4m2o",
        "outputId": "113e056d-ae2b-4846-daf8-f70326c30bd5"
      },
      "execution_count": null,
      "outputs": [
        {
          "output_type": "stream",
          "name": "stdout",
          "text": [
            "[[0 0 0 ... 0 0 0]\n",
            " [0 0 0 ... 0 0 0]\n",
            " [0 0 0 ... 0 0 0]\n",
            " ...\n",
            " [0 0 0 ... 0 0 0]\n",
            " [0 0 0 ... 0 0 0]\n",
            " [0 0 0 ... 0 0 0]]\n"
          ]
        }
      ]
    },
    {
      "cell_type": "markdown",
      "source": [
        "89. How to get the n largest values of an array (★★★)\n"
      ],
      "metadata": {
        "id": "818XmHml4yUW"
      }
    },
    {
      "cell_type": "code",
      "source": [
        "Z = np.arange(10000)\n",
        "np.random.shuffle(Z)\n",
        "n = 5\n",
        "\n",
        "# Slow\n",
        "print (Z[np.argsort(Z)[-n:]])\n",
        "\n",
        "# Fast\n",
        "print (Z[np.argpartition(-Z,n)[:n]])"
      ],
      "metadata": {
        "colab": {
          "base_uri": "https://localhost:8080/"
        },
        "id": "u8KDcuqv4-mU",
        "outputId": "a4cbfdaa-93e1-4652-8f31-cb06198bf70c"
      },
      "execution_count": null,
      "outputs": [
        {
          "output_type": "stream",
          "name": "stdout",
          "text": [
            "[9995 9996 9997 9998 9999]\n",
            "[9998 9999 9997 9996 9995]\n"
          ]
        }
      ]
    },
    {
      "cell_type": "markdown",
      "source": [
        "90. Given an arbitrary number of vectors, build the cartesian product (every combinations of every item) (★★★)\n"
      ],
      "metadata": {
        "id": "q-oFOiyq5B-h"
      }
    },
    {
      "cell_type": "code",
      "source": [
        "def cartesian(arrays):\n",
        "    arrays = [np.asarray(a) for a in arrays]\n",
        "    shape = (len(x) for x in arrays)\n",
        "\n",
        "    ix = np.indices(shape, dtype=int)\n",
        "    ix = ix.reshape(len(arrays), -1).T\n",
        "\n",
        "    for n, arr in enumerate(arrays):\n",
        "        ix[:, n] = arrays[n][ix[:, n]]\n",
        "\n",
        "    return ix\n",
        "\n",
        "print (cartesian(([1, 2, 3], [4, 5], [6, 7])))"
      ],
      "metadata": {
        "colab": {
          "base_uri": "https://localhost:8080/"
        },
        "id": "GfJ0uyts5LHx",
        "outputId": "26ef6238-852c-4533-8b61-d48edd8224c9"
      },
      "execution_count": null,
      "outputs": [
        {
          "output_type": "stream",
          "name": "stdout",
          "text": [
            "[[1 4 6]\n",
            " [1 4 7]\n",
            " [1 5 6]\n",
            " [1 5 7]\n",
            " [2 4 6]\n",
            " [2 4 7]\n",
            " [2 5 6]\n",
            " [2 5 7]\n",
            " [3 4 6]\n",
            " [3 4 7]\n",
            " [3 5 6]\n",
            " [3 5 7]]\n"
          ]
        }
      ]
    },
    {
      "cell_type": "markdown",
      "source": [
        " 91. How to create a record array from a regular array? (★★★)"
      ],
      "metadata": {
        "id": "x2jPf7FT5ZLV"
      }
    },
    {
      "cell_type": "code",
      "source": [
        "Z = np.array([(\"Hello\", 2.5, 3),\n",
        "              (\"World\", 3.6, 2)])\n",
        "R = np.core.records.fromarrays(Z.T,\n",
        "                               names='col1, col2, col3',\n",
        "                               formats = 'S8, f8, i8')\n",
        "print(R)"
      ],
      "metadata": {
        "colab": {
          "base_uri": "https://localhost:8080/"
        },
        "id": "67yorn3P51mt",
        "outputId": "f5285131-4732-4d4e-f4d7-f412a48f6047"
      },
      "execution_count": null,
      "outputs": [
        {
          "output_type": "stream",
          "name": "stdout",
          "text": [
            "[(b'Hello', 2.5, 3) (b'World', 3.6, 2)]\n"
          ]
        }
      ]
    },
    {
      "cell_type": "markdown",
      "source": [
        "92. Consider a large vector Z, compute Z to the power of 3 using 3 different methods (★★★)\n"
      ],
      "metadata": {
        "id": "zG6lCZTu56ID"
      }
    },
    {
      "cell_type": "code",
      "source": [
        "x = np.random.rand(int(5e7))\n",
        "\n",
        "%timeit np.power(x,3)\n",
        "%timeit x*x*x\n",
        "%timeit np.einsum('i,i,i->i',x,x,x)"
      ],
      "metadata": {
        "colab": {
          "base_uri": "https://localhost:8080/"
        },
        "id": "Q0-RAps3590g",
        "outputId": "6617d6db-06d9-4561-a05a-29851e22f7c7"
      },
      "execution_count": null,
      "outputs": [
        {
          "output_type": "stream",
          "name": "stdout",
          "text": [
            "2.11 s ± 8.1 ms per loop (mean ± std. dev. of 7 runs, 1 loop each)\n",
            "57.4 ms ± 930 µs per loop (mean ± std. dev. of 7 runs, 10 loops each)\n",
            "49.5 ms ± 586 µs per loop (mean ± std. dev. of 7 runs, 10 loops each)\n"
          ]
        }
      ]
    },
    {
      "cell_type": "markdown",
      "source": [
        "93. Consider two arrays A and B of shape (8,3) and (2,2). How to find rows of A that contain elements of each row of B regardless of the order of the elements in B? (★★★)\n",
        "\n"
      ],
      "metadata": {
        "id": "bxD5Vy5-6UAi"
      }
    },
    {
      "cell_type": "code",
      "source": [
        "A = np.random.randint(0,5,(8,3))\n",
        "B = np.random.randint(0,5,(2,2))\n",
        "\n",
        "C = (A[..., np.newaxis, np.newaxis] == B)\n",
        "rows = np.where(C.any((3,1)).all(1))[0]\n",
        "print(rows)"
      ],
      "metadata": {
        "colab": {
          "base_uri": "https://localhost:8080/"
        },
        "id": "xxMV3Y5T6YFs",
        "outputId": "2803f814-bdf3-472a-d9c3-2aee22c640e3"
      },
      "execution_count": null,
      "outputs": [
        {
          "output_type": "stream",
          "name": "stdout",
          "text": [
            "[0 2 3 7]\n"
          ]
        }
      ]
    },
    {
      "cell_type": "markdown",
      "source": [
        "94. Considering a 10x3 matrix, extract rows with unequal values (e.g. [2,2,3]) (★★★)"
      ],
      "metadata": {
        "id": "FKa3fMf86dfe"
      }
    },
    {
      "cell_type": "code",
      "source": [
        "Z = np.random.randint(0,5,(10,3))\n",
        "print(Z)\n",
        "# solution for arrays of all dtypes (including string arrays and record arrays)\n",
        "E = np.all(Z[:,1:] == Z[:,:-1], axis=1)\n",
        "U = Z[~E]\n",
        "print(U)\n",
        "# soluiton for numerical arrays only, will work for any number of columns in Z\n",
        "U = Z[Z.max(axis=1) != Z.min(axis=1),:]\n",
        "print(U)"
      ],
      "metadata": {
        "colab": {
          "base_uri": "https://localhost:8080/"
        },
        "id": "QF7AqLGU6jWi",
        "outputId": "09d242b1-c5a8-4726-9d54-20e66ac80ec9"
      },
      "execution_count": null,
      "outputs": [
        {
          "output_type": "stream",
          "name": "stdout",
          "text": [
            "[[1 1 4]\n",
            " [2 3 4]\n",
            " [0 3 4]\n",
            " [1 1 3]\n",
            " [3 2 3]\n",
            " [3 0 2]\n",
            " [3 0 1]\n",
            " [2 0 4]\n",
            " [4 3 1]\n",
            " [4 1 0]]\n",
            "[[1 1 4]\n",
            " [2 3 4]\n",
            " [0 3 4]\n",
            " [1 1 3]\n",
            " [3 2 3]\n",
            " [3 0 2]\n",
            " [3 0 1]\n",
            " [2 0 4]\n",
            " [4 3 1]\n",
            " [4 1 0]]\n",
            "[[1 1 4]\n",
            " [2 3 4]\n",
            " [0 3 4]\n",
            " [1 1 3]\n",
            " [3 2 3]\n",
            " [3 0 2]\n",
            " [3 0 1]\n",
            " [2 0 4]\n",
            " [4 3 1]\n",
            " [4 1 0]]\n"
          ]
        }
      ]
    },
    {
      "cell_type": "markdown",
      "source": [
        "95. Convert a vector of ints into a matrix binary representation (★★★)\n",
        "\n"
      ],
      "metadata": {
        "id": "yev9rdwl6x5x"
      }
    },
    {
      "cell_type": "code",
      "source": [
        "\n",
        "I = np.array([0, 1, 2, 3, 15, 16, 32, 64, 128])\n",
        "B = ((I.reshape(-1,1) & (2**np.arange(8))) != 0).astype(int)\n",
        "print(B[:,::-1])\n",
        "\n",
        "I = np.array([0, 1, 2, 3, 15, 16, 32, 64, 128], dtype=np.uint8)\n",
        "print(np.unpackbits(I[:, np.newaxis], axis=1))"
      ],
      "metadata": {
        "colab": {
          "base_uri": "https://localhost:8080/"
        },
        "id": "jXRWHLcL7AQu",
        "outputId": "8756b1da-c757-4f0d-f3a6-7539b7ab5a91"
      },
      "execution_count": null,
      "outputs": [
        {
          "output_type": "stream",
          "name": "stdout",
          "text": [
            "[[0 0 0 0 0 0 0 0]\n",
            " [0 0 0 0 0 0 0 1]\n",
            " [0 0 0 0 0 0 1 0]\n",
            " [0 0 0 0 0 0 1 1]\n",
            " [0 0 0 0 1 1 1 1]\n",
            " [0 0 0 1 0 0 0 0]\n",
            " [0 0 1 0 0 0 0 0]\n",
            " [0 1 0 0 0 0 0 0]\n",
            " [1 0 0 0 0 0 0 0]]\n",
            "[[0 0 0 0 0 0 0 0]\n",
            " [0 0 0 0 0 0 0 1]\n",
            " [0 0 0 0 0 0 1 0]\n",
            " [0 0 0 0 0 0 1 1]\n",
            " [0 0 0 0 1 1 1 1]\n",
            " [0 0 0 1 0 0 0 0]\n",
            " [0 0 1 0 0 0 0 0]\n",
            " [0 1 0 0 0 0 0 0]\n",
            " [1 0 0 0 0 0 0 0]]\n"
          ]
        }
      ]
    },
    {
      "cell_type": "markdown",
      "source": [
        "96. Given a two dimensional array, how to extract unique rows? (★★★)"
      ],
      "metadata": {
        "id": "H7FftioD7IIL"
      }
    },
    {
      "cell_type": "code",
      "source": [
        "\n",
        "Z = np.random.randint(0,2,(6,3))\n",
        "T = np.ascontiguousarray(Z).view(np.dtype((np.void, Z.dtype.itemsize * Z.shape[1])))\n",
        "_, idx = np.unique(T, return_index=True)\n",
        "uZ = Z[idx]\n",
        "print(uZ)\n",
        "\n",
        "uZ = np.unique(Z, axis=0)\n",
        "print(uZ)"
      ],
      "metadata": {
        "colab": {
          "base_uri": "https://localhost:8080/"
        },
        "id": "g_HrgDpN7MjS",
        "outputId": "60653c2d-8fbb-427d-f1a5-3873197a17e4"
      },
      "execution_count": null,
      "outputs": [
        {
          "output_type": "stream",
          "name": "stdout",
          "text": [
            "[[0 1 0]\n",
            " [1 0 0]\n",
            " [1 0 1]\n",
            " [1 1 1]]\n",
            "[[0 1 0]\n",
            " [1 0 0]\n",
            " [1 0 1]\n",
            " [1 1 1]]\n"
          ]
        }
      ]
    },
    {
      "cell_type": "markdown",
      "source": [
        "97. Considering 2 vectors A & B, write the einsum equivalent of inner, outer, sum, and mul function (★★★)\n"
      ],
      "metadata": {
        "id": "UWiozS9O7Wd9"
      }
    },
    {
      "cell_type": "code",
      "source": [
        "A = np.random.uniform(0,1,10)\n",
        "B = np.random.uniform(0,1,10)\n",
        "\n",
        "np.einsum('i->', A)       # np.sum(A)\n",
        "np.einsum('i,i->i', A, B) # A * B\n",
        "np.einsum('i,i', A, B)    # np.inner(A, B)\n",
        "np.einsum('i,j->ij', A, B)    # np.outer(A, B)"
      ],
      "metadata": {
        "colab": {
          "base_uri": "https://localhost:8080/"
        },
        "id": "wnwdVZjJ7aiN",
        "outputId": "2fdf4b2d-1940-4a27-95ce-a26bd509ef16"
      },
      "execution_count": null,
      "outputs": [
        {
          "output_type": "execute_result",
          "data": {
            "text/plain": [
              "array([[0.19236502, 0.15619119, 0.21052369, 0.28737125, 0.10378904,\n",
              "        0.31454926, 0.1566749 , 0.15977875, 0.19260572, 0.29797378],\n",
              "       [0.57038021, 0.46312144, 0.62422236, 0.85208253, 0.30774418,\n",
              "        0.93266785, 0.46455567, 0.47375888, 0.57109392, 0.88352002],\n",
              "       [0.4086168 , 0.33177729, 0.44718898, 0.61042658, 0.220466  ,\n",
              "        0.66815739, 0.33280477, 0.33939789, 0.4091281 , 0.6329482 ],\n",
              "       [0.3328651 , 0.27027053, 0.36428655, 0.49726223, 0.17959476,\n",
              "        0.54429058, 0.27110753, 0.27647838, 0.33328161, 0.51560867],\n",
              "       [0.36515547, 0.29648877, 0.39962503, 0.54550034, 0.19701678,\n",
              "        0.59709078, 0.29740696, 0.30329882, 0.36561238, 0.56562651],\n",
              "       [0.06818469, 0.05536271, 0.07462112, 0.1018601 , 0.03678852,\n",
              "        0.11149347, 0.05553416, 0.05663433, 0.06827001, 0.10561822],\n",
              "       [0.13836587, 0.11234646, 0.15142718, 0.20670272, 0.07465422,\n",
              "        0.22625153, 0.11269439, 0.11492695, 0.138539  , 0.21432899],\n",
              "       [0.55960453, 0.45437211, 0.61242949, 0.83598491, 0.30193025,\n",
              "        0.91504781, 0.45577924, 0.46480859, 0.56030476, 0.86682848],\n",
              "       [0.32724822, 0.2657099 , 0.35813946, 0.48887127, 0.17656422,\n",
              "        0.53510605, 0.26653277, 0.271813  , 0.32765771, 0.50690812],\n",
              "       [0.0248167 , 0.02014997, 0.02715932, 0.0370733 , 0.01338966,\n",
              "        0.04057949, 0.02021237, 0.0206128 , 0.02484775, 0.03844111]])"
            ]
          },
          "metadata": {},
          "execution_count": 51
        }
      ]
    },
    {
      "cell_type": "markdown",
      "source": [
        "98. Considering a path described by two vectors (X,Y), how to sample it using equidistant samples (★★★)?\n"
      ],
      "metadata": {
        "id": "RGu4Zpu-7hxs"
      }
    },
    {
      "cell_type": "code",
      "source": [
        "phi = np.arange(0, 10*np.pi, 0.1)\n",
        "a = 1\n",
        "x = a*phi*np.cos(phi)\n",
        "y = a*phi*np.sin(phi)\n",
        "\n",
        "dr = (np.diff(x)**2 + np.diff(y)**2)**.5 # segment lengths\n",
        "r = np.zeros_like(x)\n",
        "r[1:] = np.cumsum(dr)                # integrate path\n",
        "r_int = np.linspace(0, r.max(), 200) # regular spaced path\n",
        "x_int = np.interp(r_int, r, x)       # integrate path\n",
        "y_int = np.interp(r_int, r, y)"
      ],
      "metadata": {
        "id": "ZqD_G1RD7mGM"
      },
      "execution_count": null,
      "outputs": []
    },
    {
      "cell_type": "markdown",
      "source": [
        "99. Given an integer n and a 2D array X, select from X the rows which can be interpreted as draws from a multinomial distribution with n degrees, i.e., the rows which only contain integers and which sum to n. (★★★)\n"
      ],
      "metadata": {
        "id": "iAqsz3N67srw"
      }
    },
    {
      "cell_type": "code",
      "source": [
        "X = np.asarray([[1.0, 0.0, 3.0, 8.0],\n",
        "                [2.0, 0.0, 1.0, 1.0],\n",
        "                [1.5, 2.5, 1.0, 0.0]])\n",
        "n = 4\n",
        "M = np.logical_and.reduce(np.mod(X, 1) == 0, axis=-1)\n",
        "M &= (X.sum(axis=-1) == n)\n",
        "print(X[M])"
      ],
      "metadata": {
        "colab": {
          "base_uri": "https://localhost:8080/"
        },
        "id": "1c3HBPob7yHD",
        "outputId": "35728c82-efe6-44f5-cdb7-2abd2ff3174e"
      },
      "execution_count": null,
      "outputs": [
        {
          "output_type": "stream",
          "name": "stdout",
          "text": [
            "[[2. 0. 1. 1.]]\n"
          ]
        }
      ]
    },
    {
      "cell_type": "markdown",
      "source": [
        "100. Compute bootstrapped 95% confidence intervals for the mean of a 1D array X (i.e., resample the elements of an array with replacement N times, compute the mean of each sample, and then compute percentiles over the means). (★★★)\n",
        "\n"
      ],
      "metadata": {
        "id": "xWC0Ra4V79X4"
      }
    },
    {
      "cell_type": "code",
      "source": [
        "X = np.random.randn(100) # random 1D array\n",
        "N = 1000 # number of bootstrap samples\n",
        "idx = np.random.randint(0, X.size, (N, X.size))\n",
        "means = X[idx].mean(axis=1)\n",
        "confint = np.percentile(means, [2.5, 97.5])\n",
        "print(confint)"
      ],
      "metadata": {
        "colab": {
          "base_uri": "https://localhost:8080/"
        },
        "id": "4B7U4dOj7-Yk",
        "outputId": "a57dbac9-83fd-488b-f440-ea9e0bca42b5"
      },
      "execution_count": null,
      "outputs": [
        {
          "output_type": "stream",
          "name": "stdout",
          "text": [
            "[-0.14377962  0.22543739]\n"
          ]
        }
      ]
    }
  ]
}